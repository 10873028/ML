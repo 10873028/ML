{
 "cells": [
  {
   "cell_type": "code",
   "execution_count": 1,
   "id": "swedish-citation",
   "metadata": {},
   "outputs": [
    {
     "name": "stdout",
     "output_type": "stream",
     "text": [
      "cuda\n"
     ]
    }
   ],
   "source": [
    "import torch\n",
    "from torch import nn\n",
    "import torch.utils.data as Data\n",
    "import pandas as pd\n",
    "import numpy as np\n",
    "import matplotlib.pyplot as plt\n",
    "from sklearn import metrics\n",
    "from model import Net\n",
    "from preprocessing import Create_Matrix, StandardScaler, Split\n",
    "\n",
    "device = 'cuda' if torch.cuda.is_available() else 'cpu'\n",
    "print(device)"
   ]
  },
  {
   "cell_type": "code",
   "execution_count": 2,
   "id": "economic-slovenia",
   "metadata": {},
   "outputs": [],
   "source": [
    "timesteps = 90\n",
    "batch_size = 512"
   ]
  },
  {
   "cell_type": "code",
   "execution_count": 3,
   "id": "cardiovascular-packing",
   "metadata": {},
   "outputs": [],
   "source": [
    "data = pd.read_csv('bdi.csv', parse_dates=['date'], index_col=['date']).fillna(method='ffill').values"
   ]
  },
  {
   "cell_type": "code",
   "execution_count": 4,
   "id": "silent-gates",
   "metadata": {},
   "outputs": [],
   "source": [
    "x, y = Create_Matrix(data, timesteps)\n",
    "x_train, y_train, x_val, y_val, x_test, y_test = Split(x, y)"
   ]
  },
  {
   "cell_type": "code",
   "execution_count": 5,
   "id": "selective-evening",
   "metadata": {},
   "outputs": [],
   "source": [
    "scaler = StandardScaler(y_train)\n",
    "y_train = scaler.transform(y_train)\n",
    "x_train = scaler.transform(x_train)\n",
    "y_val = scaler.transform(y_val)\n",
    "x_val = scaler.transform(x_val)\n",
    "x_test = scaler.transform(x_test)"
   ]
  },
  {
   "cell_type": "code",
   "execution_count": 6,
   "id": "variable-tobacco",
   "metadata": {},
   "outputs": [],
   "source": [
    "x_train = torch.FloatTensor(x_train).to(device)\n",
    "y_train = torch.FloatTensor(y_train).to(device)\n",
    "x_val = torch.FloatTensor(x_val).to(device)\n",
    "y_val = torch.FloatTensor(y_val).to(device)\n",
    "x_test = torch.FloatTensor(x_test).to(device)"
   ]
  },
  {
   "cell_type": "code",
   "execution_count": 7,
   "id": "editorial-kingston",
   "metadata": {},
   "outputs": [],
   "source": [
    "dataset = Data.TensorDataset(x_train, y_train)\n",
    "dataloader = Data.DataLoader(dataset=dataset, batch_size=batch_size, shuffle=True)"
   ]
  },
  {
   "cell_type": "code",
   "execution_count": 8,
   "id": "breeding-imperial",
   "metadata": {},
   "outputs": [],
   "source": [
    "model = Net().to(device)\n",
    "adam = torch.optim.Adam(model.parameters(), lr=0.01)\n",
    "sgd = torch.optim.SGD(model.parameters(), lr=0.001)\n",
    "criterion = nn.MSELoss()"
   ]
  },
  {
   "cell_type": "code",
   "execution_count": 9,
   "id": "closing-stylus",
   "metadata": {},
   "outputs": [
    {
     "name": "stdout",
     "output_type": "stream",
     "text": [
      "weight_saved\n",
      "Epoch:001-loss:0.11527-val_loss:0.01661\n",
      "weight_saved\n",
      "Epoch:002-loss:0.03240-val_loss:0.01309\n",
      "weight_saved\n",
      "Epoch:003-loss:0.00328-val_loss:0.00209\n",
      "Epoch:004-loss:0.00334-val_loss:0.00285\n",
      "weight_saved\n",
      "Epoch:005-loss:0.00110-val_loss:0.00041\n",
      "Epoch:006-loss:0.00139-val_loss:0.00045\n",
      "weight_saved\n",
      "Epoch:007-loss:0.00095-val_loss:0.00037\n",
      "Epoch:008-loss:0.00102-val_loss:0.00042\n",
      "Epoch:009-loss:0.00101-val_loss:0.00040\n",
      "Epoch:010-loss:0.00147-val_loss:0.00038\n",
      "weight_saved\n",
      "Epoch:011-loss:0.00071-val_loss:0.00037\n",
      "weight_saved\n",
      "Epoch:012-loss:0.00090-val_loss:0.00033\n",
      "Epoch:013-loss:0.00128-val_loss:0.00034\n",
      "weight_saved\n",
      "Epoch:014-loss:0.00089-val_loss:0.00032\n",
      "Epoch:015-loss:0.00082-val_loss:0.00044\n",
      "weight_saved\n",
      "Epoch:016-loss:0.00071-val_loss:0.00028\n",
      "Epoch:017-loss:0.00119-val_loss:0.00032\n",
      "Epoch:018-loss:0.00093-val_loss:0.00037\n",
      "weight_saved\n",
      "Epoch:019-loss:0.00061-val_loss:0.00026\n",
      "weight_saved\n",
      "Epoch:020-loss:0.00088-val_loss:0.00025\n",
      "Epoch:021-loss:0.00074-val_loss:0.00065\n",
      "Epoch:022-loss:0.00104-val_loss:0.00029\n",
      "Epoch:023-loss:0.00062-val_loss:0.00036\n",
      "Epoch:024-loss:0.00079-val_loss:0.00036\n",
      "Epoch:025-loss:0.00054-val_loss:0.00038\n",
      "weight_saved\n",
      "Epoch:026-loss:0.00061-val_loss:0.00024\n",
      "Epoch:027-loss:0.00059-val_loss:0.00026\n",
      "weight_saved\n",
      "Epoch:028-loss:0.00059-val_loss:0.00022\n",
      "Epoch:029-loss:0.00059-val_loss:0.00022\n",
      "weight_saved\n",
      "Epoch:030-loss:0.00067-val_loss:0.00021\n",
      "Epoch:031-loss:0.00070-val_loss:0.00029\n",
      "Epoch:032-loss:0.00079-val_loss:0.00021\n",
      "Epoch:033-loss:0.00123-val_loss:0.00021\n",
      "weight_saved\n",
      "Epoch:034-loss:0.00074-val_loss:0.00020\n",
      "Epoch:035-loss:0.00055-val_loss:0.00040\n",
      "Epoch:036-loss:0.00067-val_loss:0.00040\n",
      "weight_saved\n",
      "Epoch:037-loss:0.00059-val_loss:0.00019\n",
      "weight_saved\n",
      "Epoch:038-loss:0.00044-val_loss:0.00019\n",
      "weight_saved\n",
      "Epoch:039-loss:0.00051-val_loss:0.00019\n",
      "Epoch:040-loss:0.00058-val_loss:0.00021\n",
      "Epoch:041-loss:0.00045-val_loss:0.00028\n",
      "Epoch:042-loss:0.00045-val_loss:0.00024\n",
      "Epoch:043-loss:0.00079-val_loss:0.00030\n",
      "Epoch:044-loss:0.00048-val_loss:0.00023\n",
      "weight_saved\n",
      "Epoch:045-loss:0.00071-val_loss:0.00018\n",
      "weight_saved\n",
      "Epoch:046-loss:0.00036-val_loss:0.00017\n",
      "Epoch:047-loss:0.00050-val_loss:0.00027\n",
      "weight_saved\n",
      "Epoch:048-loss:0.00033-val_loss:0.00017\n",
      "Epoch:049-loss:0.00050-val_loss:0.00018\n",
      "weight_saved\n",
      "Epoch:050-loss:0.00053-val_loss:0.00016\n",
      "weight_saved\n",
      "Epoch:051-loss:0.00044-val_loss:0.00016\n",
      "Epoch:052-loss:0.00048-val_loss:0.00017\n",
      "weight_saved\n",
      "Epoch:053-loss:0.00041-val_loss:0.00016\n",
      "Epoch:054-loss:0.00046-val_loss:0.00020\n",
      "Epoch:055-loss:0.00079-val_loss:0.00018\n",
      "weight_saved\n",
      "Epoch:056-loss:0.00062-val_loss:0.00016\n",
      "Epoch:057-loss:0.00038-val_loss:0.00019\n",
      "weight_saved\n",
      "Epoch:058-loss:0.00051-val_loss:0.00015\n",
      "Epoch:059-loss:0.00038-val_loss:0.00030\n",
      "Epoch:060-loss:0.00066-val_loss:0.00015\n",
      "weight_saved\n",
      "Epoch:061-loss:0.00065-val_loss:0.00015\n",
      "weight_saved\n",
      "Epoch:062-loss:0.00056-val_loss:0.00014\n",
      "Epoch:063-loss:0.00040-val_loss:0.00059\n",
      "weight_saved\n",
      "Epoch:064-loss:0.00051-val_loss:0.00014\n",
      "Epoch:065-loss:0.00045-val_loss:0.00015\n",
      "Epoch:066-loss:0.00110-val_loss:0.00022\n",
      "Epoch:067-loss:0.00056-val_loss:0.00015\n",
      "Epoch:068-loss:0.00028-val_loss:0.00014\n",
      "Epoch:069-loss:0.00067-val_loss:0.00018\n",
      "Epoch:070-loss:0.00029-val_loss:0.00016\n",
      "Epoch:071-loss:0.00023-val_loss:0.00014\n",
      "Epoch:072-loss:0.00042-val_loss:0.00016\n",
      "Epoch:073-loss:0.00032-val_loss:0.00015\n",
      "Epoch:074-loss:0.00042-val_loss:0.00015\n",
      "Epoch:075-loss:0.00047-val_loss:0.00015\n",
      "Epoch:076-loss:0.00036-val_loss:0.00015\n",
      "Epoch:077-loss:0.00033-val_loss:0.00017\n",
      "weight_saved\n",
      "Epoch:078-loss:0.00031-val_loss:0.00012\n",
      "Epoch:079-loss:0.00048-val_loss:0.00080\n",
      "Epoch:080-loss:0.00108-val_loss:0.00067\n",
      "Epoch:081-loss:0.00060-val_loss:0.00012\n",
      "Epoch:082-loss:0.00064-val_loss:0.00015\n",
      "Epoch:083-loss:0.00095-val_loss:0.00032\n",
      "Epoch:084-loss:0.00052-val_loss:0.00019\n",
      "Epoch:085-loss:0.00114-val_loss:0.00014\n",
      "Epoch:086-loss:0.00067-val_loss:0.00013\n",
      "weight_saved\n",
      "Epoch:087-loss:0.00054-val_loss:0.00011\n",
      "Epoch:088-loss:0.00024-val_loss:0.00018\n",
      "Epoch:089-loss:0.00041-val_loss:0.00012\n",
      "Epoch:090-loss:0.00037-val_loss:0.00013\n",
      "Epoch:091-loss:0.00046-val_loss:0.00017\n",
      "Epoch:092-loss:0.00030-val_loss:0.00012\n",
      "Epoch:093-loss:0.00078-val_loss:0.00024\n",
      "Epoch:094-loss:0.00053-val_loss:0.00012\n",
      "Epoch:095-loss:0.00042-val_loss:0.00025\n",
      "Epoch:096-loss:0.00039-val_loss:0.00020\n",
      "Epoch:097-loss:0.00067-val_loss:0.00011\n",
      "Epoch:098-loss:0.00036-val_loss:0.00040\n",
      "weight_saved\n",
      "Epoch:099-loss:0.00042-val_loss:0.00011\n",
      "Epoch:100-loss:0.00030-val_loss:0.00013\n",
      "weight_saved\n",
      "Epoch:101-loss:0.00026-val_loss:0.00010\n",
      "Epoch:102-loss:0.00028-val_loss:0.00011\n",
      "Epoch:103-loss:0.00037-val_loss:0.00011\n",
      "weight_saved\n",
      "Epoch:104-loss:0.00028-val_loss:0.00009\n",
      "Epoch:105-loss:0.00035-val_loss:0.00014\n",
      "Epoch:106-loss:0.00035-val_loss:0.00010\n",
      "Epoch:107-loss:0.00044-val_loss:0.00014\n",
      "Epoch:108-loss:0.00021-val_loss:0.00009\n",
      "Epoch:109-loss:0.00047-val_loss:0.00017\n",
      "Epoch:110-loss:0.00044-val_loss:0.00078\n",
      "Epoch:111-loss:0.00067-val_loss:0.00010\n",
      "Epoch:112-loss:0.00064-val_loss:0.00010\n",
      "Epoch:113-loss:0.00029-val_loss:0.00012\n",
      "weight_saved\n",
      "Epoch:114-loss:0.00034-val_loss:0.00008\n",
      "Epoch:115-loss:0.00030-val_loss:0.00010\n",
      "Epoch:116-loss:0.00038-val_loss:0.00009\n",
      "Epoch:117-loss:0.00067-val_loss:0.00009\n",
      "Epoch:118-loss:0.00033-val_loss:0.00010\n",
      "Epoch:119-loss:0.00054-val_loss:0.00012\n",
      "Epoch:120-loss:0.00039-val_loss:0.00009\n",
      "Epoch:121-loss:0.00030-val_loss:0.00018\n",
      "Epoch:122-loss:0.00078-val_loss:0.00018\n",
      "Epoch:123-loss:0.00039-val_loss:0.00028\n",
      "Epoch:124-loss:0.00031-val_loss:0.00010\n",
      "Epoch:125-loss:0.00024-val_loss:0.00020\n",
      "Epoch:126-loss:0.00031-val_loss:0.00018\n",
      "Epoch:127-loss:0.00035-val_loss:0.00016\n",
      "Epoch:128-loss:0.00062-val_loss:0.00011\n",
      "Epoch:129-loss:0.00033-val_loss:0.00011\n",
      "weight_saved\n",
      "Epoch:130-loss:0.00022-val_loss:0.00008\n",
      "Epoch:131-loss:0.00031-val_loss:0.00008\n",
      "Epoch:132-loss:0.00033-val_loss:0.00017\n",
      "Epoch:133-loss:0.00030-val_loss:0.00019\n",
      "Epoch:134-loss:0.00047-val_loss:0.00028\n",
      "weight_saved\n",
      "Epoch:135-loss:0.00099-val_loss:0.00007\n",
      "Epoch:136-loss:0.00083-val_loss:0.00013\n",
      "Epoch:137-loss:0.00036-val_loss:0.00008\n",
      "Epoch:138-loss:0.00030-val_loss:0.00021\n",
      "Epoch:139-loss:0.00035-val_loss:0.00010\n",
      "Epoch:140-loss:0.00041-val_loss:0.00015\n",
      "Epoch:141-loss:0.00035-val_loss:0.00008\n",
      "Epoch:142-loss:0.00024-val_loss:0.00014\n",
      "Epoch:143-loss:0.00022-val_loss:0.00011\n",
      "Epoch:144-loss:0.00033-val_loss:0.00007\n",
      "Epoch:145-loss:0.00037-val_loss:0.00009\n",
      "Epoch:146-loss:0.00042-val_loss:0.00018\n",
      "weight_saved\n",
      "Epoch:147-loss:0.00043-val_loss:0.00007\n",
      "weight_saved\n",
      "Epoch:148-loss:0.00028-val_loss:0.00007\n",
      "Epoch:149-loss:0.00020-val_loss:0.00017\n",
      "Epoch:150-loss:0.00064-val_loss:0.00040\n",
      "Epoch:151-loss:0.00039-val_loss:0.00013\n",
      "Epoch:152-loss:0.00040-val_loss:0.00063\n",
      "Epoch:153-loss:0.00033-val_loss:0.00012\n",
      "Epoch:154-loss:0.00030-val_loss:0.00021\n",
      "Epoch:155-loss:0.00036-val_loss:0.00008\n",
      "Epoch:156-loss:0.00027-val_loss:0.00009\n",
      "Epoch:157-loss:0.00031-val_loss:0.00011\n",
      "Epoch:158-loss:0.00026-val_loss:0.00012\n",
      "Epoch:159-loss:0.00051-val_loss:0.00038\n",
      "Epoch:160-loss:0.00038-val_loss:0.00015\n",
      "Epoch:161-loss:0.00036-val_loss:0.00022\n",
      "Epoch:162-loss:0.00037-val_loss:0.00032\n",
      "Epoch:163-loss:0.00025-val_loss:0.00014\n",
      "Epoch:164-loss:0.00046-val_loss:0.00017\n",
      "Epoch:165-loss:0.00032-val_loss:0.00007\n",
      "Epoch:166-loss:0.00042-val_loss:0.00007\n",
      "Epoch:167-loss:0.00049-val_loss:0.00007\n",
      "weight_saved\n",
      "Epoch:168-loss:0.00040-val_loss:0.00007\n",
      "Epoch:169-loss:0.00084-val_loss:0.00008\n",
      "Epoch:170-loss:0.00160-val_loss:0.00029\n",
      "Epoch:171-loss:0.00039-val_loss:0.00009\n",
      "Epoch:172-loss:0.00054-val_loss:0.00012\n",
      "Epoch:173-loss:0.00037-val_loss:0.00009\n",
      "Epoch:174-loss:0.00040-val_loss:0.00017\n",
      "Epoch:175-loss:0.00079-val_loss:0.00052\n",
      "Epoch:176-loss:0.00084-val_loss:0.00012\n",
      "weight_saved\n",
      "Epoch:177-loss:0.00033-val_loss:0.00007\n",
      "Epoch:178-loss:0.00053-val_loss:0.00011\n",
      "Epoch:179-loss:0.00041-val_loss:0.00025\n",
      "Epoch:180-loss:0.00037-val_loss:0.00007\n",
      "Epoch:181-loss:0.00042-val_loss:0.00008\n",
      "Epoch:182-loss:0.00051-val_loss:0.00007\n",
      "Epoch:183-loss:0.00037-val_loss:0.00011\n",
      "Epoch:184-loss:0.00052-val_loss:0.00025\n",
      "Epoch:185-loss:0.00085-val_loss:0.00018\n",
      "Epoch:186-loss:0.00079-val_loss:0.00049\n",
      "Epoch:187-loss:0.00031-val_loss:0.00008\n",
      "Epoch:188-loss:0.00039-val_loss:0.00016\n",
      "Epoch:189-loss:0.00071-val_loss:0.00007\n",
      "Epoch:190-loss:0.00036-val_loss:0.00009\n",
      "Epoch:191-loss:0.00037-val_loss:0.00009\n",
      "Epoch:192-loss:0.00035-val_loss:0.00007\n"
     ]
    },
    {
     "name": "stdout",
     "output_type": "stream",
     "text": [
      "Epoch:193-loss:0.00033-val_loss:0.00008\n",
      "Epoch:194-loss:0.00030-val_loss:0.00022\n",
      "Epoch:195-loss:0.00048-val_loss:0.00046\n",
      "Epoch:196-loss:0.00060-val_loss:0.00007\n",
      "Epoch:197-loss:0.00112-val_loss:0.00052\n",
      "Epoch:198-loss:0.00032-val_loss:0.00008\n",
      "Epoch:199-loss:0.00072-val_loss:0.00012\n",
      "Epoch:200-loss:0.00030-val_loss:0.00024\n"
     ]
    }
   ],
   "source": [
    "epochs = 200\n",
    "history = dict()\n",
    "history['loss'] = []\n",
    "history['val_loss'] = []\n",
    "best_model = np.inf\n",
    "for epoch in range(epochs):\n",
    "    for x_batch, y_batch in dataloader:\n",
    "        model.train()\n",
    "        y_pred = model(x_batch)\n",
    "        loss = criterion(y_pred, y_batch)\n",
    "        adam.zero_grad()\n",
    "        loss.backward()\n",
    "        adam.step()\n",
    "    with torch.no_grad():\n",
    "        model.eval()\n",
    "        y_pred = model(x_val)\n",
    "        val_loss = criterion(y_pred, y_val)\n",
    "        loss = loss.item()\n",
    "        val_loss = val_loss.item()\n",
    "    print(f'Epoch:{1+epoch:03d}-loss:{loss:.5f}-val_loss:{val_loss:.5f}')\n",
    "    if val_loss <= best_model:\n",
    "        best_model = val_loss\n",
    "        torch.save(model, 'checkpoint.pt')\n",
    "        print('weight_saved')\n",
    "    history['loss'].append(loss)\n",
    "    history['val_loss'].append(val_loss)\n",
    "model = torch.load('checkpoint.pt')"
   ]
  },
  {
   "cell_type": "code",
   "execution_count": 10,
   "id": "french-tribune",
   "metadata": {},
   "outputs": [],
   "source": [
    "with torch.no_grad():\n",
    "    model.eval()\n",
    "    pred = model(x_test)\n",
    "    pred = pred.cpu().numpy()\n",
    "    pred = scaler.inverse_transform(pred)"
   ]
  },
  {
   "cell_type": "code",
   "execution_count": 11,
   "id": "changed-awareness",
   "metadata": {},
   "outputs": [
    {
     "data": {
      "image/png": "[encoded data removed]",
      "text/plain": [
       "<Figure size 432x288 with 1 Axes>"
      ]
     },
     "metadata": {
      "needs_background": "light"
     },
     "output_type": "display_data"
    }
   ],
   "source": [
    "plt.plot(y_test, label='Actual')\n",
    "plt.plot(pred, label='Predict')\n",
    "plt.legend()\n",
    "plt.show()"
   ]
  },
  {
   "cell_type": "code",
   "execution_count": 12,
   "id": "accepted-liberia",
   "metadata": {},
   "outputs": [
    {
     "data": {
      "image/png": "[encoded data removed]",
      "text/plain": [
       "<Figure size 432x288 with 1 Axes>"
      ]
     },
     "metadata": {
      "needs_background": "light"
     },
     "output_type": "display_data"
    }
   ],
   "source": [
    "plt.plot(history['loss'], label='loss')\n",
    "plt.plot(history['val_loss'], label='val_loss')\n",
    "plt.title('History')\n",
    "plt.legend()\n",
    "plt.show()"
   ]
  },
  {
   "cell_type": "code",
   "execution_count": 13,
   "id": "acceptable-council",
   "metadata": {},
   "outputs": [
    {
     "name": "stdout",
     "output_type": "stream",
     "text": [
      "17.603190755208335\n"
     ]
    }
   ],
   "source": [
    "print(metrics.mean_absolute_error(pred, y_test))"
   ]
  }
 ],
 "metadata": {
  "kernelspec": {
   "display_name": "Python [conda env:torch]",
   "language": "python",
   "name": "conda-env-torch-py"
  },
  "language_info": {
   "codemirror_mode": {
    "name": "ipython",
    "version": 3
   },
   "file_extension": ".py",
   "mimetype": "text/x-python",
   "name": "python",
   "nbconvert_exporter": "python",
   "pygments_lexer": "ipython3",
   "version": "3.8.5"
  }
 },
 "nbformat": 4,
 "nbformat_minor": 5
}
