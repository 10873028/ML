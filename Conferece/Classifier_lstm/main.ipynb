{
 "cells": [
  {
   "cell_type": "code",
   "execution_count": 1,
   "id": "swedish-citation",
   "metadata": {},
   "outputs": [
    {
     "name": "stdout",
     "output_type": "stream",
     "text": [
      "cuda\n"
     ]
    }
   ],
   "source": [
    "import torch\n",
    "from torch import nn\n",
    "import torch.utils.data as Data\n",
    "import pandas as pd\n",
    "import numpy as np\n",
    "import matplotlib.pyplot as plt\n",
    "from sklearn import metrics\n",
    "from model import Classifier\n",
    "from preprocessing import Create_Matrix, StandardScaler, Split\n",
    "\n",
    "device = 'cuda' if torch.cuda.is_available() else 'cpu'\n",
    "print(device)"
   ]
  },
  {
   "cell_type": "code",
   "execution_count": 2,
   "id": "economic-slovenia",
   "metadata": {},
   "outputs": [],
   "source": [
    "timesteps = 90\n",
    "batch_size = 512\n",
    "epochs = 200"
   ]
  },
  {
   "cell_type": "code",
   "execution_count": 3,
   "id": "cardiovascular-packing",
   "metadata": {},
   "outputs": [],
   "source": [
    "sample = pd.read_csv('bdi.csv', parse_dates=['date'], index_col=['date']).fillna(method='ffill').values"
   ]
  },
  {
   "cell_type": "code",
   "execution_count": 4,
   "id": "social-statistics",
   "metadata": {},
   "outputs": [],
   "source": [
    "label=[0]\n",
    "for i in range(sample.shape[0]-1):\n",
    "    if sample[i] < sample[i+1]:\n",
    "        label.append(1)\n",
    "    else:\n",
    "        label.append(0)"
   ]
  },
  {
   "cell_type": "code",
   "execution_count": 5,
   "id": "developing-houston",
   "metadata": {},
   "outputs": [],
   "source": [
    "x = []\n",
    "y = []\n",
    "for i in range(timesteps, sample.shape[0]):\n",
    "    x.append(sample[i-timesteps:i])\n",
    "    y.append(label[i])\n",
    "x = np.array(x)\n",
    "y = np.array(y).reshape(-1, 1)"
   ]
  },
  {
   "cell_type": "code",
   "execution_count": 6,
   "id": "silent-gates",
   "metadata": {},
   "outputs": [],
   "source": [
    "x_train, y_train, x_val, y_val, x_test, y_test = Split(x, y)"
   ]
  },
  {
   "cell_type": "code",
   "execution_count": 7,
   "id": "brown-serum",
   "metadata": {},
   "outputs": [],
   "source": [
    "train = pd.DataFrame(columns=(['chance']), data=y_train) \n",
    "train.to_csv('train.csv', index=False, header=True)"
   ]
  },
  {
   "cell_type": "code",
   "execution_count": 8,
   "id": "selective-evening",
   "metadata": {},
   "outputs": [],
   "source": [
    "scaler = StandardScaler(x_train.reshape(-1))\n",
    "x_train = scaler.transform(x_train)\n",
    "x_val = scaler.transform(x_val)\n",
    "x_test = scaler.transform(x_test)"
   ]
  },
  {
   "cell_type": "code",
   "execution_count": 9,
   "id": "variable-tobacco",
   "metadata": {},
   "outputs": [],
   "source": [
    "x_train = torch.FloatTensor(x_train).to(device)\n",
    "y_train = torch.FloatTensor(y_train).to(device)\n",
    "x_val = torch.FloatTensor(x_val).to(device)\n",
    "y_val = torch.FloatTensor(y_val).to(device)\n",
    "x_test = torch.FloatTensor(x_test).to(device)"
   ]
  },
  {
   "cell_type": "code",
   "execution_count": 10,
   "id": "editorial-kingston",
   "metadata": {},
   "outputs": [],
   "source": [
    "dataset = Data.TensorDataset(x_train, y_train)\n",
    "dataloader = Data.DataLoader(dataset=dataset, batch_size=batch_size, shuffle=True)"
   ]
  },
  {
   "cell_type": "code",
   "execution_count": 11,
   "id": "breeding-imperial",
   "metadata": {},
   "outputs": [],
   "source": [
    "model = Classifier().to(device)\n",
    "optimizer = torch.optim.Adam(model.parameters(), lr=0.01)\n",
    "criterion = nn.BCELoss()"
   ]
  },
  {
   "cell_type": "code",
   "execution_count": 12,
   "id": "closing-stylus",
   "metadata": {
    "scrolled": true
   },
   "outputs": [
    {
     "name": "stdout",
     "output_type": "stream",
     "text": [
      "Epoch:001-loss:0.65676-val_loss:0.64664\n",
      "weight_saved\n",
      "Epoch:002-loss:0.61867-val_loss:0.64489\n",
      "weight_saved\n",
      "Epoch:003-loss:0.63489-val_loss:0.64286\n",
      "weight_saved\n",
      "Epoch:004-loss:0.65258-val_loss:0.64327\n",
      "Epoch:005-loss:0.65547-val_loss:0.64329\n",
      "Epoch:006-loss:0.64381-val_loss:0.64305\n",
      "Epoch:007-loss:0.61851-val_loss:0.64351\n",
      "Epoch:008-loss:0.62520-val_loss:0.64409\n",
      "Epoch:009-loss:0.65098-val_loss:0.64291\n",
      "Epoch:010-loss:0.63159-val_loss:0.64386\n",
      "Epoch:011-loss:0.64854-val_loss:0.64289\n",
      "Epoch:012-loss:0.63524-val_loss:0.64684\n",
      "Epoch:013-loss:0.64650-val_loss:0.64350\n",
      "Epoch:014-loss:0.64049-val_loss:0.64376\n",
      "Epoch:015-loss:0.63463-val_loss:0.64326\n",
      "Epoch:016-loss:0.65036-val_loss:0.64421\n",
      "Epoch:017-loss:0.63942-val_loss:0.64382\n",
      "Epoch:018-loss:0.65932-val_loss:0.64315\n",
      "Epoch:019-loss:0.61140-val_loss:0.64373\n",
      "Epoch:020-loss:0.66262-val_loss:0.64495\n",
      "Epoch:021-loss:0.66309-val_loss:0.64287\n",
      "Epoch:022-loss:0.61083-val_loss:0.64282\n",
      "weight_saved\n",
      "Epoch:023-loss:0.62817-val_loss:0.64302\n",
      "Epoch:024-loss:0.68261-val_loss:0.64307\n",
      "Epoch:025-loss:0.66144-val_loss:0.64684\n",
      "Epoch:026-loss:0.62960-val_loss:0.64312\n",
      "Epoch:027-loss:0.63019-val_loss:0.64481\n",
      "Epoch:028-loss:0.65525-val_loss:0.64358\n",
      "Epoch:029-loss:0.63191-val_loss:0.64368\n",
      "Epoch:030-loss:0.62502-val_loss:0.64248\n",
      "weight_saved\n",
      "Epoch:031-loss:0.61645-val_loss:0.64251\n",
      "Epoch:032-loss:0.64252-val_loss:0.64438\n",
      "Epoch:033-loss:0.64142-val_loss:0.64277\n",
      "Epoch:034-loss:0.63160-val_loss:0.64281\n",
      "Epoch:035-loss:0.65211-val_loss:0.64299\n",
      "Epoch:036-loss:0.63292-val_loss:0.64880\n",
      "Epoch:037-loss:0.61470-val_loss:0.63443\n",
      "weight_saved\n",
      "Epoch:038-loss:0.64673-val_loss:0.62335\n",
      "weight_saved\n",
      "Epoch:039-loss:0.61564-val_loss:0.61843\n",
      "weight_saved\n",
      "Epoch:040-loss:0.63856-val_loss:0.64189\n",
      "Epoch:041-loss:0.62927-val_loss:0.62818\n",
      "Epoch:042-loss:0.63242-val_loss:0.60933\n",
      "weight_saved\n",
      "Epoch:043-loss:0.59412-val_loss:0.60994\n",
      "Epoch:044-loss:0.59424-val_loss:0.59265\n",
      "weight_saved\n",
      "Epoch:045-loss:0.59025-val_loss:0.57519\n",
      "weight_saved\n",
      "Epoch:046-loss:0.53980-val_loss:0.54919\n",
      "weight_saved\n",
      "Epoch:047-loss:0.53464-val_loss:0.55813\n",
      "Epoch:048-loss:0.54591-val_loss:0.55618\n",
      "Epoch:049-loss:0.50798-val_loss:0.52832\n",
      "weight_saved\n",
      "Epoch:050-loss:0.44313-val_loss:0.54773\n",
      "Epoch:051-loss:0.46902-val_loss:0.53328\n",
      "Epoch:052-loss:0.52548-val_loss:0.52608\n",
      "weight_saved\n",
      "Epoch:053-loss:0.49839-val_loss:0.53745\n",
      "Epoch:054-loss:0.41552-val_loss:0.51098\n",
      "weight_saved\n",
      "Epoch:055-loss:0.45169-val_loss:0.52699\n",
      "Epoch:056-loss:0.44736-val_loss:0.53954\n",
      "Epoch:057-loss:0.41745-val_loss:0.50793\n",
      "weight_saved\n",
      "Epoch:058-loss:0.46817-val_loss:0.51609\n",
      "Epoch:059-loss:0.46445-val_loss:0.53731\n",
      "Epoch:060-loss:0.49604-val_loss:0.48434\n",
      "weight_saved\n",
      "Epoch:061-loss:0.60473-val_loss:0.55657\n",
      "Epoch:062-loss:0.52121-val_loss:0.53268\n",
      "Epoch:063-loss:0.49816-val_loss:0.52590\n",
      "Epoch:064-loss:0.47177-val_loss:0.51842\n",
      "Epoch:065-loss:0.43670-val_loss:0.51130\n",
      "Epoch:066-loss:0.40180-val_loss:0.51181\n",
      "Epoch:067-loss:0.39375-val_loss:0.48859\n",
      "Epoch:068-loss:0.39157-val_loss:0.50630\n",
      "Epoch:069-loss:0.40510-val_loss:0.50487\n",
      "Epoch:070-loss:0.40353-val_loss:0.48378\n",
      "weight_saved\n",
      "Epoch:071-loss:0.38902-val_loss:0.49965\n",
      "Epoch:072-loss:0.39119-val_loss:0.49630\n",
      "Epoch:073-loss:0.42217-val_loss:0.50590\n",
      "Epoch:074-loss:0.38008-val_loss:0.46811\n",
      "weight_saved\n",
      "Epoch:075-loss:0.34555-val_loss:0.46990\n",
      "Epoch:076-loss:0.35781-val_loss:0.44948\n",
      "weight_saved\n",
      "Epoch:077-loss:0.33502-val_loss:0.52681\n",
      "Epoch:078-loss:0.37819-val_loss:0.45809\n",
      "Epoch:079-loss:0.37362-val_loss:0.50813\n",
      "Epoch:080-loss:0.47299-val_loss:0.52935\n",
      "Epoch:081-loss:0.38406-val_loss:0.52148\n",
      "Epoch:082-loss:0.37394-val_loss:0.48440\n",
      "Epoch:083-loss:0.34989-val_loss:0.48101\n",
      "Epoch:084-loss:0.33778-val_loss:0.47476\n",
      "Epoch:085-loss:0.53764-val_loss:0.53566\n",
      "Epoch:086-loss:0.53462-val_loss:0.51987\n",
      "Epoch:087-loss:0.53132-val_loss:0.48805\n",
      "Epoch:088-loss:0.47686-val_loss:0.48142\n",
      "Epoch:089-loss:0.54658-val_loss:0.52705\n",
      "Epoch:090-loss:0.53306-val_loss:0.50511\n",
      "Epoch:091-loss:0.50842-val_loss:0.47551\n",
      "Epoch:092-loss:0.42629-val_loss:0.45619\n",
      "Epoch:093-loss:0.41360-val_loss:0.43558\n",
      "weight_saved\n",
      "Epoch:094-loss:0.43375-val_loss:0.45201\n",
      "Epoch:095-loss:0.37581-val_loss:0.44431\n",
      "Epoch:096-loss:0.47672-val_loss:0.44215\n",
      "Epoch:097-loss:0.42446-val_loss:0.47236\n",
      "Epoch:098-loss:0.46397-val_loss:0.51963\n",
      "Epoch:099-loss:0.43142-val_loss:0.48496\n",
      "Epoch:100-loss:0.42936-val_loss:0.46105\n",
      "Epoch:101-loss:0.48436-val_loss:0.57608\n",
      "Epoch:102-loss:0.49589-val_loss:0.53850\n",
      "Epoch:103-loss:0.44075-val_loss:0.54101\n",
      "Epoch:104-loss:0.46583-val_loss:0.52788\n",
      "Epoch:105-loss:0.42434-val_loss:0.51530\n",
      "Epoch:106-loss:0.44567-val_loss:0.50077\n",
      "Epoch:107-loss:0.41439-val_loss:0.48662\n",
      "Epoch:108-loss:0.33419-val_loss:0.46356\n",
      "Epoch:109-loss:0.36986-val_loss:0.46599\n",
      "Epoch:110-loss:0.32045-val_loss:0.46238\n",
      "Epoch:111-loss:0.42997-val_loss:0.48129\n",
      "Epoch:112-loss:0.38800-val_loss:0.44193\n",
      "Epoch:113-loss:0.44743-val_loss:0.51977\n",
      "Epoch:114-loss:0.42603-val_loss:0.46134\n",
      "Epoch:115-loss:0.32783-val_loss:0.45428\n",
      "Epoch:116-loss:0.33097-val_loss:0.44635\n",
      "Epoch:117-loss:0.33370-val_loss:0.44018\n",
      "Epoch:118-loss:0.32494-val_loss:0.47884\n",
      "Epoch:119-loss:0.30281-val_loss:0.46091\n",
      "Epoch:120-loss:0.31037-val_loss:0.43956\n",
      "Epoch:121-loss:0.30126-val_loss:0.48148\n",
      "Epoch:122-loss:0.32091-val_loss:0.44430\n",
      "Epoch:123-loss:0.32270-val_loss:0.44147\n",
      "Epoch:124-loss:0.33517-val_loss:0.45480\n",
      "Epoch:125-loss:0.32015-val_loss:0.46145\n",
      "Epoch:126-loss:0.33487-val_loss:0.45915\n",
      "Epoch:127-loss:0.28560-val_loss:0.47276\n",
      "Epoch:128-loss:0.29486-val_loss:0.43782\n",
      "Epoch:129-loss:0.25434-val_loss:0.46438\n",
      "Epoch:130-loss:0.26645-val_loss:0.46808\n",
      "Epoch:131-loss:0.26250-val_loss:0.44032\n",
      "Epoch:132-loss:0.29800-val_loss:0.44801\n",
      "Epoch:133-loss:0.33224-val_loss:0.46647\n",
      "Epoch:134-loss:0.30788-val_loss:0.42588\n",
      "weight_saved\n",
      "Epoch:135-loss:0.26553-val_loss:0.45407\n",
      "Epoch:136-loss:0.26035-val_loss:0.43691\n",
      "Epoch:137-loss:0.26314-val_loss:0.46131\n",
      "Epoch:138-loss:0.30671-val_loss:0.47085\n",
      "Epoch:139-loss:0.29901-val_loss:0.46283\n",
      "Epoch:140-loss:0.32221-val_loss:0.55956\n",
      "Epoch:141-loss:0.34134-val_loss:0.48059\n",
      "Epoch:142-loss:0.33811-val_loss:0.45682\n",
      "Epoch:143-loss:0.26457-val_loss:0.43096\n",
      "Epoch:144-loss:0.36356-val_loss:0.41112\n",
      "weight_saved\n",
      "Epoch:145-loss:0.29241-val_loss:0.46204\n",
      "Epoch:146-loss:0.28893-val_loss:0.43150\n",
      "Epoch:147-loss:0.29890-val_loss:0.41795\n",
      "Epoch:148-loss:0.27184-val_loss:0.44620\n",
      "Epoch:149-loss:0.30713-val_loss:0.43957\n",
      "Epoch:150-loss:0.28179-val_loss:0.43902\n",
      "Epoch:151-loss:0.27295-val_loss:0.44525\n",
      "Epoch:152-loss:0.24633-val_loss:0.45021\n",
      "Epoch:153-loss:0.23786-val_loss:0.45565\n",
      "Epoch:154-loss:0.29079-val_loss:0.45582\n",
      "Epoch:155-loss:0.26408-val_loss:0.46529\n",
      "Epoch:156-loss:0.45646-val_loss:0.54752\n",
      "Epoch:157-loss:0.30100-val_loss:0.42059\n",
      "Epoch:158-loss:0.28995-val_loss:0.44721\n",
      "Epoch:159-loss:0.24395-val_loss:0.42262\n",
      "Epoch:160-loss:0.26264-val_loss:0.43436\n",
      "Epoch:161-loss:0.26561-val_loss:0.43966\n",
      "Epoch:162-loss:0.28855-val_loss:0.46615\n",
      "Epoch:163-loss:0.18932-val_loss:0.46939\n",
      "Epoch:164-loss:0.26413-val_loss:0.45788\n",
      "Epoch:165-loss:0.26527-val_loss:0.50277\n",
      "Epoch:166-loss:0.23006-val_loss:0.48648\n",
      "Epoch:167-loss:0.27233-val_loss:0.49246\n",
      "Epoch:168-loss:0.42855-val_loss:0.48165\n",
      "Epoch:169-loss:0.40596-val_loss:0.44426\n",
      "Epoch:170-loss:0.35633-val_loss:0.46255\n",
      "Epoch:171-loss:0.34974-val_loss:0.45887\n",
      "Epoch:172-loss:0.34954-val_loss:0.47200\n",
      "Epoch:173-loss:0.34125-val_loss:0.43196\n",
      "Epoch:174-loss:0.28579-val_loss:0.43121\n",
      "Epoch:175-loss:0.28024-val_loss:0.47717\n",
      "Epoch:176-loss:0.39124-val_loss:0.47987\n",
      "Epoch:177-loss:0.37932-val_loss:0.46066\n",
      "Epoch:178-loss:0.27348-val_loss:0.42049\n",
      "Epoch:179-loss:0.33698-val_loss:0.44420\n",
      "Epoch:180-loss:0.31090-val_loss:0.43947\n",
      "Epoch:181-loss:0.28551-val_loss:0.43701\n",
      "Epoch:182-loss:0.37270-val_loss:0.44539\n",
      "Epoch:183-loss:0.28912-val_loss:0.43059\n",
      "Epoch:184-loss:0.30757-val_loss:0.44160\n",
      "Epoch:185-loss:0.30676-val_loss:0.42822\n",
      "Epoch:186-loss:0.30079-val_loss:0.50857\n",
      "Epoch:187-loss:0.28221-val_loss:0.48142\n",
      "Epoch:188-loss:0.28582-val_loss:0.42255\n",
      "Epoch:189-loss:0.28672-val_loss:0.54392\n",
      "Epoch:190-loss:0.28972-val_loss:0.49111\n",
      "Epoch:191-loss:0.25272-val_loss:0.46076\n",
      "Epoch:192-loss:0.30842-val_loss:0.55000\n",
      "Epoch:193-loss:0.22634-val_loss:0.44806\n",
      "Epoch:194-loss:0.24873-val_loss:0.42750\n",
      "Epoch:195-loss:0.27744-val_loss:0.44420\n",
      "Epoch:196-loss:0.27410-val_loss:0.48488\n",
      "Epoch:197-loss:0.22399-val_loss:0.55499\n",
      "Epoch:198-loss:0.25630-val_loss:0.46564\n"
     ]
    },
    {
     "name": "stdout",
     "output_type": "stream",
     "text": [
      "Epoch:199-loss:0.28156-val_loss:0.45971\n",
      "Epoch:200-loss:0.26075-val_loss:0.53943\n"
     ]
    }
   ],
   "source": [
    "history = dict()\n",
    "history['loss'] = []\n",
    "history['val_loss'] = []\n",
    "best_model = np.inf\n",
    "for epoch in range(epochs):\n",
    "    for x_batch, y_batch in dataloader:\n",
    "        model.train()\n",
    "        y_pred = model(x_batch)\n",
    "        loss = criterion(y_pred, y_batch)\n",
    "        loss.backward()\n",
    "        optimizer.step()\n",
    "        optimizer.zero_grad()\n",
    "    with torch.no_grad():\n",
    "        model.eval()\n",
    "        y_pred = model(x_val)\n",
    "        val_loss = criterion(y_pred, y_val)\n",
    "        loss = loss.item()\n",
    "        val_loss = val_loss.item()\n",
    "    print(f'Epoch:{1+epoch:03d}-loss:{loss:.5f}-val_loss:{val_loss:.5f}')\n",
    "    if val_loss <= best_model:\n",
    "        best_model = val_loss\n",
    "        torch.save(model, 'checkpoint.pt')\n",
    "        print('weight_saved')\n",
    "    history['loss'].append(loss)\n",
    "    history['val_loss'].append(val_loss)\n",
    "model = torch.load('checkpoint.pt')"
   ]
  },
  {
   "cell_type": "code",
   "execution_count": 13,
   "id": "accepted-liberia",
   "metadata": {},
   "outputs": [
    {
     "data": {
      "image/png": "[encoded data removed]",
      "text/plain": [
       "<Figure size 432x288 with 1 Axes>"
      ]
     },
     "metadata": {
      "needs_background": "light"
     },
     "output_type": "display_data"
    }
   ],
   "source": [
    "plt.plot(history['loss'], label='loss')\n",
    "plt.plot(history['val_loss'], label='val_loss')\n",
    "plt.title('History')\n",
    "plt.legend()\n",
    "plt.show()"
   ]
  },
  {
   "cell_type": "code",
   "execution_count": 14,
   "id": "french-tribune",
   "metadata": {},
   "outputs": [
    {
     "data": {
      "text/plain": [
       "0.8013333333333333"
      ]
     },
     "execution_count": 14,
     "metadata": {},
     "output_type": "execute_result"
    }
   ],
   "source": [
    "with torch.no_grad():\n",
    "    model.eval()\n",
    "    pred = model(x_test)\n",
    "    pred = pred.cpu().numpy()\n",
    "test = []\n",
    "for i in pred:\n",
    "    if i < 0.5:\n",
    "        test.append(0)\n",
    "    else:\n",
    "        test.append(1)\n",
    "metrics.accuracy_score(y_test, test)"
   ]
  },
  {
   "cell_type": "code",
   "execution_count": 15,
   "id": "acceptable-council",
   "metadata": {},
   "outputs": [],
   "source": [
    "with torch.no_grad():\n",
    "    model.eval()\n",
    "    pred = model(x_val)\n",
    "    pred = pred.cpu().numpy()\n",
    "val = []\n",
    "for i in pred:\n",
    "    if i < 0.5:\n",
    "        val.append(0)\n",
    "    else:\n",
    "        val.append(1)"
   ]
  },
  {
   "cell_type": "code",
   "execution_count": 16,
   "id": "saved-mailing",
   "metadata": {},
   "outputs": [],
   "source": [
    "val = pd.DataFrame(columns=(['chance']), data=val) \n",
    "val.to_csv('val.csv', index=False, header=True)\n",
    "test = pd.DataFrame(columns=(['chance']), data=test) \n",
    "test.to_csv('test.csv', index=False, header=True)"
   ]
  }
 ],
 "metadata": {
  "kernelspec": {
   "display_name": "Python [conda env:torch]",
   "language": "python",
   "name": "conda-env-torch-py"
  },
  "language_info": {
   "codemirror_mode": {
    "name": "ipython",
    "version": 3
   },
   "file_extension": ".py",
   "mimetype": "text/x-python",
   "name": "python",
   "nbconvert_exporter": "python",
   "pygments_lexer": "ipython3",
   "version": "3.8.5"
  }
 },
 "nbformat": 4,
 "nbformat_minor": 5
}
