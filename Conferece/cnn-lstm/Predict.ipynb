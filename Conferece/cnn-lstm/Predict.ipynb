{
 "cells": [
  {
   "cell_type": "code",
   "execution_count": 1,
   "id": "entitled-pharmacy",
   "metadata": {},
   "outputs": [
    {
     "name": "stdout",
     "output_type": "stream",
     "text": [
      "cuda\n"
     ]
    }
   ],
   "source": [
    "import torch\n",
    "from torch import nn\n",
    "import torch.utils.data as Data\n",
    "import pandas as pd\n",
    "import numpy as np\n",
    "import matplotlib.pyplot as plt\n",
    "from sklearn import metrics\n",
    "from preprocessing import StandardScaler, Split\n",
    "from model import Regressor\n",
    "\n",
    "device = 'cuda' if torch.cuda.is_available() else 'cpu'\n",
    "print(device)"
   ]
  },
  {
   "cell_type": "code",
   "execution_count": 2,
   "id": "entire-grenada",
   "metadata": {},
   "outputs": [],
   "source": [
    "timesteps = 90\n",
    "start = 100\n",
    "end = 90"
   ]
  },
  {
   "cell_type": "code",
   "execution_count": 3,
   "id": "statutory-primary",
   "metadata": {},
   "outputs": [],
   "source": [
    "df = pd.read_csv('bdi.csv')\n",
    "df.fillna(method='ffill', inplace=True)\n",
    "data = df['bdi'].values"
   ]
  },
  {
   "cell_type": "code",
   "execution_count": 4,
   "id": "saving-morgan",
   "metadata": {},
   "outputs": [],
   "source": [
    "x = []\n",
    "y = []\n",
    "for i in range(timesteps, data.shape[0]):\n",
    "    x.append(data[i-timesteps:i])\n",
    "    y.append(data[i])\n",
    "x = np.array(x).reshape(-1, 6, 1, 15)\n",
    "y = np.array(y).reshape(-1, 1)"
   ]
  },
  {
   "cell_type": "code",
   "execution_count": 5,
   "id": "ambient-nepal",
   "metadata": {},
   "outputs": [],
   "source": [
    "x_train, y_train, x_val, y_val, x_test, y_test = Split(x, y)"
   ]
  },
  {
   "cell_type": "code",
   "execution_count": 6,
   "id": "settled-slope",
   "metadata": {},
   "outputs": [],
   "source": [
    "scaler = StandardScaler(y_train)\n",
    "x_train = scaler.transform(x_train)\n",
    "y_train = scaler.transform(y_train)\n",
    "x_val = scaler.transform(x_val)\n",
    "y_val = scaler.transform(y_val)\n",
    "x_test = scaler.transform(x_test)"
   ]
  },
  {
   "cell_type": "code",
   "execution_count": 7,
   "id": "engaged-official",
   "metadata": {},
   "outputs": [],
   "source": [
    "x_train = torch.FloatTensor(x_train).to(device)\n",
    "y_train = torch.FloatTensor(y_train).to(device)\n",
    "x_val = torch.FloatTensor(x_val).to(device)\n",
    "y_val = torch.FloatTensor(y_val).to(device)\n",
    "x_test = torch.FloatTensor(x_test).to(device)"
   ]
  },
  {
   "cell_type": "code",
   "execution_count": 8,
   "id": "proper-homework",
   "metadata": {},
   "outputs": [],
   "source": [
    "tmp = x_test[100].unsqueeze(0)"
   ]
  },
  {
   "cell_type": "code",
   "execution_count": 9,
   "id": "encouraging-stack",
   "metadata": {},
   "outputs": [],
   "source": [
    "ls = []\n",
    "model = Regressor().to(device)\n",
    "model = torch.load(f'checkpoint.pt')"
   ]
  },
  {
   "cell_type": "code",
   "execution_count": 10,
   "id": "roman-limit",
   "metadata": {},
   "outputs": [],
   "source": [
    "model.eval()\n",
    "for _ in range(90):\n",
    "    with torch.no_grad():\n",
    "        pred = model(tmp)\n",
    "        ls.append(pred.cpu().numpy())\n",
    "        tmp = torch.cat((tmp.view(-1, 1), pred))\n",
    "        tmp = tmp[-timesteps:]\n",
    "        tmp = tmp.view(1, 6, 1, 15)"
   ]
  },
  {
   "cell_type": "code",
   "execution_count": 11,
   "id": "known-channel",
   "metadata": {},
   "outputs": [
    {
     "data": {
      "image/png": "[encoded data removed]",
      "text/plain": [
       "<Figure size 432x288 with 1 Axes>"
      ]
     },
     "metadata": {
      "needs_background": "light"
     },
     "output_type": "display_data"
    }
   ],
   "source": [
    "pred = scaler.inverse_transform(np.array(ls).reshape(-1))\n",
    "plt.plot(y_test)\n",
    "plt.plot(range(start, start+end),pred)\n",
    "plt.show()"
   ]
  },
  {
   "cell_type": "code",
   "execution_count": null,
   "id": "hourly-medication",
   "metadata": {},
   "outputs": [],
   "source": []
  }
 ],
 "metadata": {
  "kernelspec": {
   "display_name": "Python [conda env:torch]",
   "language": "python",
   "name": "conda-env-torch-py"
  },
  "language_info": {
   "codemirror_mode": {
    "name": "ipython",
    "version": 3
   },
   "file_extension": ".py",
   "mimetype": "text/x-python",
   "name": "python",
   "nbconvert_exporter": "python",
   "pygments_lexer": "ipython3",
   "version": "3.8.5"
  }
 },
 "nbformat": 4,
 "nbformat_minor": 5
}
