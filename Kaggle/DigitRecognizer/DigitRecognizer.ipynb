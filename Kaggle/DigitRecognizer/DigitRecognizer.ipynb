{
 "cells": [
  {
   "cell_type": "code",
   "execution_count": 1,
   "id": "applicable-surgery",
   "metadata": {},
   "outputs": [],
   "source": [
    "import tensorflow as tf\n",
    "import numpy as np\n",
    "import pandas as pd\n",
    "import matplotlib.pyplot as plt\n",
    "from tensorflow.keras.models import Model, load_model\n",
    "from tensorflow.keras.layers import *\n",
    "from tensorflow.keras.callbacks import ModelCheckpoint\n",
    "from tensorflow.keras.optimizers import SGD\n",
    "from tensorflow.keras.regularizers import l1, l2"
   ]
  },
  {
   "cell_type": "code",
   "execution_count": 2,
   "id": "difficult-cache",
   "metadata": {},
   "outputs": [],
   "source": [
    "physical_devices = tf.config.list_physical_devices('GPU')\n",
    "tf.config.experimental.set_memory_growth(physical_devices[0], enable=True)"
   ]
  },
  {
   "cell_type": "code",
   "execution_count": 3,
   "id": "alpine-luxembourg",
   "metadata": {},
   "outputs": [],
   "source": [
    "def split(a, b, c, seed):\n",
    "    n = len(a)\n",
    "    index = np.arange(n)\n",
    "    d = int(c * n)\n",
    "    np.random.seed(seed)\n",
    "    np.random.shuffle(index)\n",
    "    return a[index[:d]], b[index[:d]], a[index[d:]], b[index[d:]]"
   ]
  },
  {
   "cell_type": "code",
   "execution_count": 4,
   "id": "hazardous-drinking",
   "metadata": {},
   "outputs": [],
   "source": [
    "df = pd.read_csv('train.csv')\n",
    "y = []\n",
    "for i in df['label'].values:\n",
    "    q = [0 for _ in range(10)]\n",
    "    q[i] = q[i] + 1\n",
    "    y.append(q)\n",
    "y = np.array(y)\n",
    "x = df.drop(columns=['label']).values\n",
    "x = x.reshape(x.shape[0], 28, 28, 1)\n",
    "y = y.reshape(-1, 10)\n",
    "x_train, y_train, x_test, y_test = split(x, y, 0.8, 42)"
   ]
  },
  {
   "cell_type": "code",
   "execution_count": 5,
   "id": "appropriate-listing",
   "metadata": {},
   "outputs": [
    {
     "data": {
      "image/png": "[encoded data removed]",
      "text/plain": [
       "<Figure size 432x288 with 1 Axes>"
      ]
     },
     "metadata": {
      "needs_background": "light"
     },
     "output_type": "display_data"
    },
    {
     "name": "stdout",
     "output_type": "stream",
     "text": [
      "[0 0 0 0 0 0 0 0 1 0]\n"
     ]
    }
   ],
   "source": [
    "plt.imshow(x_train[4], cmap = 'binary',)\n",
    "plt.show()\n",
    "print(y_train[4])"
   ]
  },
  {
   "cell_type": "code",
   "execution_count": 6,
   "id": "designing-sierra",
   "metadata": {},
   "outputs": [],
   "source": [
    "def build_model(shape):\n",
    "    inputs = Input(shape=(shape[1], shape[2], shape[3]))\n",
    "    x = Conv2D(filters=64, kernel_size=(3,3), \n",
    "               padding='same', activation='relu', kernel_initializer='he_uniform')(inputs)\n",
    "    x = MaxPooling2D()(x)\n",
    "    x = Conv2D(filters=32, kernel_size=(2,2), \n",
    "               padding='same', activation='relu', kernel_initializer='he_uniform')(x)\n",
    "    x = MaxPooling2D()(x)\n",
    "    x = Flatten()(x)\n",
    "    x = BatchNormalization()(x)\n",
    "    x = Dropout(0.2)(x)\n",
    "    x = Dense(32, activation='relu', kernel_initializer='he_uniform')(x)\n",
    "    outputs = Dense(10, kernel_regularizer=l2(0.01), activation='softmax', kernel_initializer='uniform')(x)\n",
    "    return Model(inputs=inputs, outputs=outputs)"
   ]
  },
  {
   "cell_type": "code",
   "execution_count": 7,
   "id": "ready-alaska",
   "metadata": {},
   "outputs": [],
   "source": [
    "model = build_model(x_train.shape)\n",
    "model.compile(loss='categorical_crossentropy', optimizer='adam', metrics=[tf.keras.metrics.CategoricalAccuracy()])"
   ]
  },
  {
   "cell_type": "code",
   "execution_count": 8,
   "id": "universal-tactics",
   "metadata": {
    "scrolled": false
   },
   "outputs": [
    {
     "name": "stdout",
     "output_type": "stream",
     "text": [
      "Model: \"model\"\n",
      "_________________________________________________________________\n",
      "Layer (type)                 Output Shape              Param #   \n",
      "=================================================================\n",
      "input_1 (InputLayer)         [(None, 28, 28, 1)]       0         \n",
      "_________________________________________________________________\n",
      "conv2d (Conv2D)              (None, 28, 28, 64)        640       \n",
      "_________________________________________________________________\n",
      "max_pooling2d (MaxPooling2D) (None, 14, 14, 64)        0         \n",
      "_________________________________________________________________\n",
      "conv2d_1 (Conv2D)            (None, 14, 14, 32)        8224      \n",
      "_________________________________________________________________\n",
      "max_pooling2d_1 (MaxPooling2 (None, 7, 7, 32)          0         \n",
      "_________________________________________________________________\n",
      "flatten (Flatten)            (None, 1568)              0         \n",
      "_________________________________________________________________\n",
      "batch_normalization (BatchNo (None, 1568)              6272      \n",
      "_________________________________________________________________\n",
      "dropout (Dropout)            (None, 1568)              0         \n",
      "_________________________________________________________________\n",
      "dense (Dense)                (None, 32)                50208     \n",
      "_________________________________________________________________\n",
      "dense_1 (Dense)              (None, 10)                330       \n",
      "=================================================================\n",
      "Total params: 65,674\n",
      "Trainable params: 62,538\n",
      "Non-trainable params: 3,136\n",
      "_________________________________________________________________\n"
     ]
    }
   ],
   "source": [
    "model.summary()"
   ]
  },
  {
   "cell_type": "code",
   "execution_count": 9,
   "id": "sharp-leisure",
   "metadata": {},
   "outputs": [],
   "source": [
    "filepath='checkpoint.h5'\n",
    "checkpoint=ModelCheckpoint(filepath=filepath, monitor='val_loss', save_best_only=True)"
   ]
  },
  {
   "cell_type": "code",
   "execution_count": 10,
   "id": "pending-contribution",
   "metadata": {
    "scrolled": true
   },
   "outputs": [
    {
     "name": "stdout",
     "output_type": "stream",
     "text": [
      "Epoch 1/50\n",
      "263/263 [==============================] - 8s 31ms/step - loss: 0.3619 - categorical_accuracy: 0.9033 - val_loss: 0.1216 - val_categorical_accuracy: 0.9682\n",
      "Epoch 2/50\n",
      "263/263 [==============================] - 2s 6ms/step - loss: 0.0869 - categorical_accuracy: 0.9779 - val_loss: 0.0804 - val_categorical_accuracy: 0.9804\n",
      "Epoch 3/50\n",
      "263/263 [==============================] - 2s 6ms/step - loss: 0.0630 - categorical_accuracy: 0.9855 - val_loss: 0.0738 - val_categorical_accuracy: 0.9829\n",
      "Epoch 4/50\n",
      "263/263 [==============================] - 2s 6ms/step - loss: 0.0533 - categorical_accuracy: 0.9886 - val_loss: 0.0820 - val_categorical_accuracy: 0.9801\n",
      "Epoch 5/50\n",
      "263/263 [==============================] - 2s 6ms/step - loss: 0.0457 - categorical_accuracy: 0.9901 - val_loss: 0.0619 - val_categorical_accuracy: 0.9858\n",
      "Epoch 6/50\n",
      "263/263 [==============================] - 2s 6ms/step - loss: 0.0389 - categorical_accuracy: 0.9921 - val_loss: 0.0601 - val_categorical_accuracy: 0.9867\n",
      "Epoch 7/50\n",
      "263/263 [==============================] - 2s 6ms/step - loss: 0.0358 - categorical_accuracy: 0.9928 - val_loss: 0.0586 - val_categorical_accuracy: 0.9869\n",
      "Epoch 8/50\n",
      "263/263 [==============================] - 2s 6ms/step - loss: 0.0326 - categorical_accuracy: 0.9938 - val_loss: 0.0631 - val_categorical_accuracy: 0.9843\n",
      "Epoch 9/50\n",
      "263/263 [==============================] - 2s 6ms/step - loss: 0.0316 - categorical_accuracy: 0.9937 - val_loss: 0.0557 - val_categorical_accuracy: 0.9871\n",
      "Epoch 10/50\n",
      "263/263 [==============================] - 2s 6ms/step - loss: 0.0283 - categorical_accuracy: 0.9950 - val_loss: 0.0567 - val_categorical_accuracy: 0.9880\n",
      "Epoch 11/50\n",
      "263/263 [==============================] - 2s 6ms/step - loss: 0.0264 - categorical_accuracy: 0.9954 - val_loss: 0.0551 - val_categorical_accuracy: 0.9868\n",
      "Epoch 12/50\n",
      "263/263 [==============================] - 2s 6ms/step - loss: 0.0238 - categorical_accuracy: 0.9959 - val_loss: 0.0542 - val_categorical_accuracy: 0.9876\n",
      "Epoch 13/50\n",
      "263/263 [==============================] - 2s 6ms/step - loss: 0.0238 - categorical_accuracy: 0.9958 - val_loss: 0.0524 - val_categorical_accuracy: 0.9869\n",
      "Epoch 14/50\n",
      "263/263 [==============================] - 2s 6ms/step - loss: 0.0219 - categorical_accuracy: 0.9964 - val_loss: 0.0557 - val_categorical_accuracy: 0.9860\n",
      "Epoch 15/50\n",
      "263/263 [==============================] - 2s 6ms/step - loss: 0.0212 - categorical_accuracy: 0.9962 - val_loss: 0.0527 - val_categorical_accuracy: 0.9875\n",
      "Epoch 16/50\n",
      "263/263 [==============================] - 2s 6ms/step - loss: 0.0195 - categorical_accuracy: 0.9972 - val_loss: 0.0533 - val_categorical_accuracy: 0.9876\n",
      "Epoch 17/50\n",
      "263/263 [==============================] - 2s 6ms/step - loss: 0.0181 - categorical_accuracy: 0.9974 - val_loss: 0.0537 - val_categorical_accuracy: 0.9871\n",
      "Epoch 18/50\n",
      "263/263 [==============================] - 2s 6ms/step - loss: 0.0190 - categorical_accuracy: 0.9969 - val_loss: 0.0524 - val_categorical_accuracy: 0.9876\n",
      "Epoch 19/50\n",
      "263/263 [==============================] - 2s 6ms/step - loss: 0.0183 - categorical_accuracy: 0.9971 - val_loss: 0.0593 - val_categorical_accuracy: 0.9858\n",
      "Epoch 20/50\n",
      "263/263 [==============================] - 2s 6ms/step - loss: 0.0169 - categorical_accuracy: 0.9975 - val_loss: 0.0518 - val_categorical_accuracy: 0.9881\n",
      "Epoch 21/50\n",
      "263/263 [==============================] - 2s 6ms/step - loss: 0.0163 - categorical_accuracy: 0.9975 - val_loss: 0.0508 - val_categorical_accuracy: 0.9873\n",
      "Epoch 22/50\n",
      "263/263 [==============================] - 2s 6ms/step - loss: 0.0158 - categorical_accuracy: 0.9976 - val_loss: 0.0594 - val_categorical_accuracy: 0.9864\n",
      "Epoch 23/50\n",
      "263/263 [==============================] - 2s 6ms/step - loss: 0.0152 - categorical_accuracy: 0.9978 - val_loss: 0.0528 - val_categorical_accuracy: 0.9874\n",
      "Epoch 24/50\n",
      "263/263 [==============================] - 2s 6ms/step - loss: 0.0142 - categorical_accuracy: 0.9979 - val_loss: 0.0501 - val_categorical_accuracy: 0.9882\n",
      "Epoch 25/50\n",
      "263/263 [==============================] - 2s 6ms/step - loss: 0.0152 - categorical_accuracy: 0.9973 - val_loss: 0.0469 - val_categorical_accuracy: 0.9887\n",
      "Epoch 26/50\n",
      "263/263 [==============================] - 2s 6ms/step - loss: 0.0126 - categorical_accuracy: 0.9983 - val_loss: 0.0506 - val_categorical_accuracy: 0.9879\n",
      "Epoch 27/50\n",
      "263/263 [==============================] - 2s 6ms/step - loss: 0.0146 - categorical_accuracy: 0.9974 - val_loss: 0.0540 - val_categorical_accuracy: 0.9871\n",
      "Epoch 28/50\n",
      "263/263 [==============================] - 2s 6ms/step - loss: 0.0127 - categorical_accuracy: 0.9982 - val_loss: 0.0483 - val_categorical_accuracy: 0.9881\n",
      "Epoch 29/50\n",
      "263/263 [==============================] - 2s 6ms/step - loss: 0.0117 - categorical_accuracy: 0.9985 - val_loss: 0.0549 - val_categorical_accuracy: 0.9873\n",
      "Epoch 30/50\n",
      "263/263 [==============================] - 2s 6ms/step - loss: 0.0124 - categorical_accuracy: 0.9983 - val_loss: 0.0560 - val_categorical_accuracy: 0.9869\n",
      "Epoch 31/50\n",
      "263/263 [==============================] - 2s 6ms/step - loss: 0.0117 - categorical_accuracy: 0.9984 - val_loss: 0.0534 - val_categorical_accuracy: 0.9880\n",
      "Epoch 32/50\n",
      "263/263 [==============================] - 2s 6ms/step - loss: 0.0112 - categorical_accuracy: 0.9985 - val_loss: 0.0592 - val_categorical_accuracy: 0.9850\n",
      "Epoch 33/50\n",
      "263/263 [==============================] - 2s 6ms/step - loss: 0.0121 - categorical_accuracy: 0.9980 - val_loss: 0.0487 - val_categorical_accuracy: 0.9869\n",
      "Epoch 34/50\n",
      "263/263 [==============================] - 2s 6ms/step - loss: 0.0123 - categorical_accuracy: 0.9978 - val_loss: 0.0517 - val_categorical_accuracy: 0.9870\n",
      "Epoch 35/50\n",
      "263/263 [==============================] - 2s 6ms/step - loss: 0.0107 - categorical_accuracy: 0.9986 - val_loss: 0.0496 - val_categorical_accuracy: 0.9887\n",
      "Epoch 36/50\n",
      "263/263 [==============================] - 2s 6ms/step - loss: 0.0112 - categorical_accuracy: 0.9983 - val_loss: 0.0588 - val_categorical_accuracy: 0.9865\n",
      "Epoch 37/50\n",
      "263/263 [==============================] - 2s 6ms/step - loss: 0.0099 - categorical_accuracy: 0.9985 - val_loss: 0.0507 - val_categorical_accuracy: 0.9885\n",
      "Epoch 38/50\n",
      "263/263 [==============================] - 2s 6ms/step - loss: 0.0099 - categorical_accuracy: 0.9988 - val_loss: 0.0574 - val_categorical_accuracy: 0.9868\n",
      "Epoch 39/50\n",
      "263/263 [==============================] - 2s 6ms/step - loss: 0.0097 - categorical_accuracy: 0.9987 - val_loss: 0.0597 - val_categorical_accuracy: 0.9850\n",
      "Epoch 40/50\n",
      "263/263 [==============================] - 2s 6ms/step - loss: 0.0106 - categorical_accuracy: 0.9985 - val_loss: 0.0604 - val_categorical_accuracy: 0.9879\n",
      "Epoch 41/50\n",
      "263/263 [==============================] - 2s 6ms/step - loss: 0.0091 - categorical_accuracy: 0.9987 - val_loss: 0.0563 - val_categorical_accuracy: 0.9885\n",
      "Epoch 42/50\n",
      "263/263 [==============================] - 2s 6ms/step - loss: 0.0091 - categorical_accuracy: 0.9988 - val_loss: 0.0518 - val_categorical_accuracy: 0.9888\n",
      "Epoch 43/50\n",
      "263/263 [==============================] - 2s 6ms/step - loss: 0.0107 - categorical_accuracy: 0.9983 - val_loss: 0.0499 - val_categorical_accuracy: 0.9895\n",
      "Epoch 44/50\n",
      "263/263 [==============================] - 2s 6ms/step - loss: 0.0088 - categorical_accuracy: 0.9988 - val_loss: 0.0591 - val_categorical_accuracy: 0.9873\n",
      "Epoch 45/50\n",
      "263/263 [==============================] - 2s 6ms/step - loss: 0.0096 - categorical_accuracy: 0.9987 - val_loss: 0.0559 - val_categorical_accuracy: 0.9877\n",
      "Epoch 46/50\n",
      "263/263 [==============================] - 2s 6ms/step - loss: 0.0092 - categorical_accuracy: 0.9987 - val_loss: 0.0492 - val_categorical_accuracy: 0.9889\n",
      "Epoch 47/50\n",
      "263/263 [==============================] - 2s 6ms/step - loss: 0.0085 - categorical_accuracy: 0.9988 - val_loss: 0.0551 - val_categorical_accuracy: 0.9873\n",
      "Epoch 48/50\n",
      "263/263 [==============================] - 2s 6ms/step - loss: 0.0088 - categorical_accuracy: 0.9987 - val_loss: 0.0595 - val_categorical_accuracy: 0.9858\n",
      "Epoch 49/50\n",
      "263/263 [==============================] - 2s 6ms/step - loss: 0.0085 - categorical_accuracy: 0.9988 - val_loss: 0.0523 - val_categorical_accuracy: 0.9889\n",
      "Epoch 50/50\n",
      "263/263 [==============================] - 2s 6ms/step - loss: 0.0091 - categorical_accuracy: 0.9985 - val_loss: 0.0564 - val_categorical_accuracy: 0.9879\n"
     ]
    }
   ],
   "source": [
    "history0 = model.fit(x_train, y_train, validation_data=(x_test, y_test), batch_size=128, epochs=50, shuffle=True, callbacks=[checkpoint])"
   ]
  },
  {
   "cell_type": "code",
   "execution_count": 11,
   "id": "living-paper",
   "metadata": {},
   "outputs": [],
   "source": [
    "model = load_model(filepath)\n",
    "model.compile(loss='categorical_crossentropy', optimizer=SGD(learning_rate=0.001, momentum=0.9), metrics=[tf.keras.metrics.CategoricalAccuracy()])"
   ]
  },
  {
   "cell_type": "code",
   "execution_count": 12,
   "id": "jewish-dictionary",
   "metadata": {
    "scrolled": true
   },
   "outputs": [
    {
     "name": "stdout",
     "output_type": "stream",
     "text": [
      "Epoch 1/50\n",
      "263/263 [==============================] - 2s 6ms/step - loss: 0.0118 - categorical_accuracy: 0.9987 - val_loss: 0.0454 - val_categorical_accuracy: 0.9889\n",
      "Epoch 2/50\n",
      "263/263 [==============================] - 2s 6ms/step - loss: 0.0116 - categorical_accuracy: 0.9990 - val_loss: 0.0441 - val_categorical_accuracy: 0.9890\n",
      "Epoch 3/50\n",
      "263/263 [==============================] - 2s 6ms/step - loss: 0.0109 - categorical_accuracy: 0.9992 - val_loss: 0.0443 - val_categorical_accuracy: 0.9893\n",
      "Epoch 4/50\n",
      "263/263 [==============================] - 2s 6ms/step - loss: 0.0108 - categorical_accuracy: 0.9994 - val_loss: 0.0451 - val_categorical_accuracy: 0.9888\n",
      "Epoch 5/50\n",
      "263/263 [==============================] - 2s 6ms/step - loss: 0.0113 - categorical_accuracy: 0.9990 - val_loss: 0.0451 - val_categorical_accuracy: 0.9890\n",
      "Epoch 6/50\n",
      "263/263 [==============================] - 2s 6ms/step - loss: 0.0109 - categorical_accuracy: 0.9990 - val_loss: 0.0439 - val_categorical_accuracy: 0.9892\n",
      "Epoch 7/50\n",
      "263/263 [==============================] - 1s 6ms/step - loss: 0.0105 - categorical_accuracy: 0.9993 - val_loss: 0.0439 - val_categorical_accuracy: 0.9893\n",
      "Epoch 8/50\n",
      "263/263 [==============================] - 2s 6ms/step - loss: 0.0105 - categorical_accuracy: 0.9992 - val_loss: 0.0437 - val_categorical_accuracy: 0.9895\n",
      "Epoch 9/50\n",
      "263/263 [==============================] - 2s 6ms/step - loss: 0.0106 - categorical_accuracy: 0.9992 - val_loss: 0.0434 - val_categorical_accuracy: 0.9894\n",
      "Epoch 10/50\n",
      "263/263 [==============================] - 2s 6ms/step - loss: 0.0104 - categorical_accuracy: 0.9992 - val_loss: 0.0443 - val_categorical_accuracy: 0.9895\n",
      "Epoch 11/50\n",
      "263/263 [==============================] - 2s 6ms/step - loss: 0.0103 - categorical_accuracy: 0.9992 - val_loss: 0.0434 - val_categorical_accuracy: 0.9894\n",
      "Epoch 12/50\n",
      "263/263 [==============================] - 2s 6ms/step - loss: 0.0106 - categorical_accuracy: 0.9991 - val_loss: 0.0438 - val_categorical_accuracy: 0.9890\n",
      "Epoch 13/50\n",
      "263/263 [==============================] - 2s 6ms/step - loss: 0.0103 - categorical_accuracy: 0.9992 - val_loss: 0.0428 - val_categorical_accuracy: 0.9898\n",
      "Epoch 14/50\n",
      "263/263 [==============================] - 2s 6ms/step - loss: 0.0101 - categorical_accuracy: 0.9995 - val_loss: 0.0436 - val_categorical_accuracy: 0.9894\n",
      "Epoch 15/50\n",
      "263/263 [==============================] - 1s 6ms/step - loss: 0.0100 - categorical_accuracy: 0.9995 - val_loss: 0.0428 - val_categorical_accuracy: 0.9889\n",
      "Epoch 16/50\n",
      "263/263 [==============================] - 2s 6ms/step - loss: 0.0106 - categorical_accuracy: 0.9992 - val_loss: 0.0425 - val_categorical_accuracy: 0.9894\n",
      "Epoch 17/50\n",
      "263/263 [==============================] - 2s 6ms/step - loss: 0.0099 - categorical_accuracy: 0.9993 - val_loss: 0.0432 - val_categorical_accuracy: 0.9896\n",
      "Epoch 18/50\n",
      "263/263 [==============================] - 2s 6ms/step - loss: 0.0104 - categorical_accuracy: 0.9992 - val_loss: 0.0441 - val_categorical_accuracy: 0.9893\n",
      "Epoch 19/50\n",
      "263/263 [==============================] - 2s 6ms/step - loss: 0.0104 - categorical_accuracy: 0.9992 - val_loss: 0.0425 - val_categorical_accuracy: 0.9895\n",
      "Epoch 20/50\n",
      "263/263 [==============================] - 2s 6ms/step - loss: 0.0100 - categorical_accuracy: 0.9994 - val_loss: 0.0431 - val_categorical_accuracy: 0.9894\n",
      "Epoch 21/50\n",
      "263/263 [==============================] - 1s 6ms/step - loss: 0.0104 - categorical_accuracy: 0.9993 - val_loss: 0.0440 - val_categorical_accuracy: 0.9886\n",
      "Epoch 22/50\n",
      "263/263 [==============================] - 2s 6ms/step - loss: 0.0101 - categorical_accuracy: 0.9994 - val_loss: 0.0439 - val_categorical_accuracy: 0.9889\n",
      "Epoch 23/50\n",
      "263/263 [==============================] - 2s 6ms/step - loss: 0.0103 - categorical_accuracy: 0.9990 - val_loss: 0.0432 - val_categorical_accuracy: 0.9890\n",
      "Epoch 24/50\n",
      "263/263 [==============================] - 2s 6ms/step - loss: 0.0105 - categorical_accuracy: 0.9990 - val_loss: 0.0428 - val_categorical_accuracy: 0.9896\n",
      "Epoch 25/50\n",
      "263/263 [==============================] - 2s 6ms/step - loss: 0.0099 - categorical_accuracy: 0.9993 - val_loss: 0.0431 - val_categorical_accuracy: 0.9896\n",
      "Epoch 26/50\n",
      "263/263 [==============================] - 2s 6ms/step - loss: 0.0101 - categorical_accuracy: 0.9992 - val_loss: 0.0439 - val_categorical_accuracy: 0.9892\n",
      "Epoch 27/50\n",
      "263/263 [==============================] - 2s 6ms/step - loss: 0.0102 - categorical_accuracy: 0.9993 - val_loss: 0.0427 - val_categorical_accuracy: 0.9898\n",
      "Epoch 28/50\n",
      "263/263 [==============================] - 2s 6ms/step - loss: 0.0101 - categorical_accuracy: 0.9993 - val_loss: 0.0430 - val_categorical_accuracy: 0.9890\n",
      "Epoch 29/50\n",
      "263/263 [==============================] - 2s 6ms/step - loss: 0.0098 - categorical_accuracy: 0.9995 - val_loss: 0.0431 - val_categorical_accuracy: 0.9892\n",
      "Epoch 30/50\n",
      "263/263 [==============================] - 2s 6ms/step - loss: 0.0098 - categorical_accuracy: 0.9994 - val_loss: 0.0430 - val_categorical_accuracy: 0.9893\n",
      "Epoch 31/50\n",
      "263/263 [==============================] - 2s 6ms/step - loss: 0.0102 - categorical_accuracy: 0.9993 - val_loss: 0.0433 - val_categorical_accuracy: 0.9889\n",
      "Epoch 32/50\n",
      "263/263 [==============================] - 1s 6ms/step - loss: 0.0099 - categorical_accuracy: 0.9993 - val_loss: 0.0435 - val_categorical_accuracy: 0.9895\n",
      "Epoch 33/50\n",
      "263/263 [==============================] - 2s 6ms/step - loss: 0.0099 - categorical_accuracy: 0.9993 - val_loss: 0.0433 - val_categorical_accuracy: 0.9895\n",
      "Epoch 34/50\n",
      "263/263 [==============================] - 2s 6ms/step - loss: 0.0098 - categorical_accuracy: 0.9994 - val_loss: 0.0429 - val_categorical_accuracy: 0.9892\n",
      "Epoch 35/50\n",
      "263/263 [==============================] - 2s 6ms/step - loss: 0.0096 - categorical_accuracy: 0.9994 - val_loss: 0.0423 - val_categorical_accuracy: 0.9898\n",
      "Epoch 36/50\n",
      "263/263 [==============================] - 2s 6ms/step - loss: 0.0102 - categorical_accuracy: 0.9992 - val_loss: 0.0420 - val_categorical_accuracy: 0.9895\n",
      "Epoch 37/50\n",
      "263/263 [==============================] - 2s 6ms/step - loss: 0.0100 - categorical_accuracy: 0.9994 - val_loss: 0.0433 - val_categorical_accuracy: 0.9895\n",
      "Epoch 38/50\n",
      "263/263 [==============================] - 2s 6ms/step - loss: 0.0101 - categorical_accuracy: 0.9992 - val_loss: 0.0420 - val_categorical_accuracy: 0.9896\n",
      "Epoch 39/50\n",
      "263/263 [==============================] - 2s 6ms/step - loss: 0.0099 - categorical_accuracy: 0.9993 - val_loss: 0.0423 - val_categorical_accuracy: 0.9895\n",
      "Epoch 40/50\n",
      "263/263 [==============================] - 1s 6ms/step - loss: 0.0099 - categorical_accuracy: 0.9993 - val_loss: 0.0422 - val_categorical_accuracy: 0.9896\n",
      "Epoch 41/50\n",
      "263/263 [==============================] - 2s 6ms/step - loss: 0.0093 - categorical_accuracy: 0.9996 - val_loss: 0.0428 - val_categorical_accuracy: 0.9893\n",
      "Epoch 42/50\n",
      "263/263 [==============================] - 2s 6ms/step - loss: 0.0098 - categorical_accuracy: 0.9994 - val_loss: 0.0433 - val_categorical_accuracy: 0.9893\n",
      "Epoch 43/50\n",
      "263/263 [==============================] - 2s 6ms/step - loss: 0.0098 - categorical_accuracy: 0.9994 - val_loss: 0.0441 - val_categorical_accuracy: 0.9898\n",
      "Epoch 44/50\n",
      "263/263 [==============================] - 2s 6ms/step - loss: 0.0098 - categorical_accuracy: 0.9994 - val_loss: 0.0437 - val_categorical_accuracy: 0.9888\n",
      "Epoch 45/50\n",
      "263/263 [==============================] - 2s 6ms/step - loss: 0.0099 - categorical_accuracy: 0.9993 - val_loss: 0.0433 - val_categorical_accuracy: 0.9893\n",
      "Epoch 46/50\n",
      "263/263 [==============================] - 2s 6ms/step - loss: 0.0102 - categorical_accuracy: 0.9990 - val_loss: 0.0427 - val_categorical_accuracy: 0.9896\n",
      "Epoch 47/50\n",
      "263/263 [==============================] - 2s 6ms/step - loss: 0.0098 - categorical_accuracy: 0.9993 - val_loss: 0.0428 - val_categorical_accuracy: 0.9890\n",
      "Epoch 48/50\n",
      "263/263 [==============================] - 2s 6ms/step - loss: 0.0101 - categorical_accuracy: 0.9993 - val_loss: 0.0432 - val_categorical_accuracy: 0.9893\n",
      "Epoch 49/50\n",
      "263/263 [==============================] - 2s 6ms/step - loss: 0.0095 - categorical_accuracy: 0.9995 - val_loss: 0.0437 - val_categorical_accuracy: 0.9895\n",
      "Epoch 50/50\n",
      "263/263 [==============================] - 1s 6ms/step - loss: 0.0095 - categorical_accuracy: 0.9996 - val_loss: 0.0434 - val_categorical_accuracy: 0.9893\n"
     ]
    }
   ],
   "source": [
    "history1 = model.fit(x_train, y_train, validation_data=(x_test, y_test), batch_size=128, epochs=50, shuffle=True, callbacks=[checkpoint])"
   ]
  },
  {
   "cell_type": "code",
   "execution_count": 13,
   "id": "ultimate-shipping",
   "metadata": {},
   "outputs": [
    {
     "data": {
      "image/png": "[encoded data removed]",
      "text/plain": [
       "<Figure size 1152x288 with 2 Axes>"
      ]
     },
     "metadata": {
      "needs_background": "light"
     },
     "output_type": "display_data"
    }
   ],
   "source": [
    "plt.figure(figsize=(16, 4))\n",
    "plt.subplot(1,2,1)\n",
    "plt.plot(history0.history['loss'] + history1.history['loss'], label='loss')\n",
    "plt.plot(history0.history['val_loss'] + history1.history['val_loss'], label='val_loss')\n",
    "plt.subplot(1,2,2)\n",
    "plt.plot(history0.history['categorical_accuracy'] + history1.history['categorical_accuracy'], label='categorical_accuracy')\n",
    "plt.plot(history0.history['val_categorical_accuracy'] + history1.history['val_categorical_accuracy'], label='val_categorical_accuracy')\n",
    "plt.show()"
   ]
  },
  {
   "cell_type": "code",
   "execution_count": 14,
   "id": "visible-organizer",
   "metadata": {},
   "outputs": [],
   "source": [
    "model = load_model(filepath)"
   ]
  },
  {
   "cell_type": "code",
   "execution_count": 15,
   "id": "standing-browse",
   "metadata": {},
   "outputs": [],
   "source": [
    "df = pd.read_csv('test.csv')\n",
    "test = df.values"
   ]
  },
  {
   "cell_type": "code",
   "execution_count": 16,
   "id": "cooperative-jackson",
   "metadata": {},
   "outputs": [],
   "source": [
    "test = test.reshape(-1, 28, 28, 1)"
   ]
  },
  {
   "cell_type": "code",
   "execution_count": 17,
   "id": "compressed-vision",
   "metadata": {},
   "outputs": [],
   "source": [
    "predict = model.predict(test)\n",
    "ans = np.argmax(predict, axis=1)"
   ]
  },
  {
   "cell_type": "code",
   "execution_count": 71,
   "id": "distributed-schedule",
   "metadata": {
    "scrolled": false
   },
   "outputs": [
    {
     "data": {
      "image/png": "[encoded data removed]",
      "text/plain": [
       "<Figure size 432x288 with 1 Axes>"
      ]
     },
     "metadata": {
      "needs_background": "light"
     },
     "output_type": "display_data"
    },
    {
     "name": "stdout",
     "output_type": "stream",
     "text": [
      "1\n"
     ]
    }
   ],
   "source": [
    "n=np.random.randint(test.shape[0])\n",
    "plt.imshow(test[n], cmap = 'binary',)\n",
    "plt.show()\n",
    "print(ans[n])"
   ]
  },
  {
   "cell_type": "code",
   "execution_count": 19,
   "id": "established-reason",
   "metadata": {},
   "outputs": [],
   "source": [
    "ans = np.argmax(predict, axis=1)"
   ]
  },
  {
   "cell_type": "code",
   "execution_count": 20,
   "id": "informative-oracle",
   "metadata": {},
   "outputs": [],
   "source": [
    "result = pd.DataFrame(columns=['ImageId'], data=np.arange(1, len(ans)+1))"
   ]
  },
  {
   "cell_type": "code",
   "execution_count": 21,
   "id": "beneficial-vegetation",
   "metadata": {},
   "outputs": [
    {
     "data": {
      "text/html": [
       "<div>\n",
       "<style scoped>\n",
       "    .dataframe tbody tr th:only-of-type {\n",
       "        vertical-align: middle;\n",
       "    }\n",
       "\n",
       "    .dataframe tbody tr th {\n",
       "        vertical-align: top;\n",
       "    }\n",
       "\n",
       "    .dataframe thead th {\n",
       "        text-align: right;\n",
       "    }\n",
       "</style>\n",
       "<table border=\"1\" class=\"dataframe\">\n",
       "  <thead>\n",
       "    <tr style=\"text-align: right;\">\n",
       "      <th></th>\n",
       "      <th>ImageId</th>\n",
       "      <th>Label</th>\n",
       "    </tr>\n",
       "  </thead>\n",
       "  <tbody>\n",
       "    <tr>\n",
       "      <th>0</th>\n",
       "      <td>1</td>\n",
       "      <td>2</td>\n",
       "    </tr>\n",
       "    <tr>\n",
       "      <th>1</th>\n",
       "      <td>2</td>\n",
       "      <td>0</td>\n",
       "    </tr>\n",
       "    <tr>\n",
       "      <th>2</th>\n",
       "      <td>3</td>\n",
       "      <td>9</td>\n",
       "    </tr>\n",
       "    <tr>\n",
       "      <th>3</th>\n",
       "      <td>4</td>\n",
       "      <td>0</td>\n",
       "    </tr>\n",
       "    <tr>\n",
       "      <th>4</th>\n",
       "      <td>5</td>\n",
       "      <td>3</td>\n",
       "    </tr>\n",
       "    <tr>\n",
       "      <th>...</th>\n",
       "      <td>...</td>\n",
       "      <td>...</td>\n",
       "    </tr>\n",
       "    <tr>\n",
       "      <th>27995</th>\n",
       "      <td>27996</td>\n",
       "      <td>9</td>\n",
       "    </tr>\n",
       "    <tr>\n",
       "      <th>27996</th>\n",
       "      <td>27997</td>\n",
       "      <td>7</td>\n",
       "    </tr>\n",
       "    <tr>\n",
       "      <th>27997</th>\n",
       "      <td>27998</td>\n",
       "      <td>3</td>\n",
       "    </tr>\n",
       "    <tr>\n",
       "      <th>27998</th>\n",
       "      <td>27999</td>\n",
       "      <td>9</td>\n",
       "    </tr>\n",
       "    <tr>\n",
       "      <th>27999</th>\n",
       "      <td>28000</td>\n",
       "      <td>2</td>\n",
       "    </tr>\n",
       "  </tbody>\n",
       "</table>\n",
       "<p>28000 rows × 2 columns</p>\n",
       "</div>"
      ],
      "text/plain": [
       "       ImageId  Label\n",
       "0            1      2\n",
       "1            2      0\n",
       "2            3      9\n",
       "3            4      0\n",
       "4            5      3\n",
       "...        ...    ...\n",
       "27995    27996      9\n",
       "27996    27997      7\n",
       "27997    27998      3\n",
       "27998    27999      9\n",
       "27999    28000      2\n",
       "\n",
       "[28000 rows x 2 columns]"
      ]
     },
     "execution_count": 21,
     "metadata": {},
     "output_type": "execute_result"
    }
   ],
   "source": [
    "result['Label'] = ans\n",
    "result"
   ]
  },
  {
   "cell_type": "code",
   "execution_count": 22,
   "id": "historical-storm",
   "metadata": {},
   "outputs": [],
   "source": [
    "result.to_csv('submission.csv', index=False)"
   ]
  },
  {
   "cell_type": "code",
   "execution_count": null,
   "id": "beautiful-tribute",
   "metadata": {},
   "outputs": [],
   "source": []
  }
 ],
 "metadata": {
  "kernelspec": {
   "display_name": "Python [conda env:tensorflow]",
   "language": "python",
   "name": "conda-env-tensorflow-py"
  },
  "language_info": {
   "codemirror_mode": {
    "name": "ipython",
    "version": 3
   },
   "file_extension": ".py",
   "mimetype": "text/x-python",
   "name": "python",
   "nbconvert_exporter": "python",
   "pygments_lexer": "ipython3",
   "version": "3.7.9"
  }
 },
 "nbformat": 4,
 "nbformat_minor": 5
}
