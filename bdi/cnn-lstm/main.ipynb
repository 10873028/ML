{
 "cells": [
  {
   "cell_type": "code",
   "execution_count": 1,
   "id": "administrative-briefs",
   "metadata": {},
   "outputs": [
    {
     "name": "stdout",
     "output_type": "stream",
     "text": [
      "cuda\n"
     ]
    }
   ],
   "source": [
    "import torch\n",
    "from torch import nn\n",
    "import torch.utils.data as Data\n",
    "import pandas as pd\n",
    "import numpy as np\n",
    "import matplotlib.pyplot as plt\n",
    "from sklearn import metrics\n",
    "from preprocessing import StandardScaler, Split\n",
    "from model import Regressor\n",
    "\n",
    "device = 'cuda' if torch.cuda.is_available() else 'cpu'\n",
    "print(device)"
   ]
  },
  {
   "cell_type": "code",
   "execution_count": 2,
   "id": "configured-zoning",
   "metadata": {},
   "outputs": [],
   "source": [
    "epochs = 200\n",
    "batch_size = 512\n",
    "best_model = np.inf"
   ]
  },
  {
   "cell_type": "code",
   "execution_count": 3,
   "id": "willing-sheriff",
   "metadata": {},
   "outputs": [],
   "source": [
    "df = pd.read_csv('bdi.csv')\n",
    "df.fillna(method='ffill', inplace=True)\n",
    "data = df['bdi'].values"
   ]
  },
  {
   "cell_type": "code",
   "execution_count": 4,
   "id": "surface-doctrine",
   "metadata": {},
   "outputs": [],
   "source": [
    "train = pd.read_csv('train.csv').drop(columns=['0']).values\n",
    "val = pd.read_csv('val.csv').drop(columns=['0']).values\n",
    "test = pd.read_csv('test.csv').drop(columns=['0']).values"
   ]
  },
  {
   "cell_type": "code",
   "execution_count": 5,
   "id": "narrow-defensive",
   "metadata": {},
   "outputs": [],
   "source": [
    "y = np.array([data[i] for i in range(90, data.shape[0])]).reshape(-1,1)\n",
    "x = np.array([data[i-30:i] for i in range(30, data.shape[0])]).reshape(-1,1,30)\n",
    "x = np.array([x[i-61:i] for i in range(61, x.shape[0]+1)])"
   ]
  },
  {
   "cell_type": "code",
   "execution_count": 6,
   "id": "sporting-economics",
   "metadata": {},
   "outputs": [],
   "source": [
    "x_train, y_train, x_val, y_val, x_test, y_test = Split(x, y)"
   ]
  },
  {
   "cell_type": "code",
   "execution_count": 7,
   "id": "infinite-drawing",
   "metadata": {},
   "outputs": [],
   "source": [
    "scaler = StandardScaler(y_train)\n",
    "x_train = scaler.transform(x_train)\n",
    "y_train = scaler.transform(y_train)\n",
    "x_val = scaler.transform(x_val)\n",
    "y_val = scaler.transform(y_val)\n",
    "x_test = scaler.transform(x_test)"
   ]
  },
  {
   "cell_type": "code",
   "execution_count": 8,
   "id": "convertible-router",
   "metadata": {},
   "outputs": [],
   "source": [
    "x_train = torch.FloatTensor(x_train).to(device)\n",
    "y_train = torch.FloatTensor(y_train).to(device)\n",
    "x_val = torch.FloatTensor(x_val).to(device)\n",
    "y_val = torch.FloatTensor(y_val).to(device)\n",
    "x_test = torch.FloatTensor(x_test).to(device)"
   ]
  },
  {
   "cell_type": "code",
   "execution_count": 9,
   "id": "loose-cocktail",
   "metadata": {},
   "outputs": [],
   "source": [
    "train = torch.LongTensor(train).to(device)\n",
    "val = torch.LongTensor(val).to(device)\n",
    "test = torch.LongTensor(test).to(device)"
   ]
  },
  {
   "cell_type": "code",
   "execution_count": 10,
   "id": "metric-generic",
   "metadata": {},
   "outputs": [],
   "source": [
    "dataset = Data.TensorDataset(x_train, train, y_train)\n",
    "dataloader = Data.DataLoader(dataset=dataset, batch_size=batch_size, shuffle=True)"
   ]
  },
  {
   "cell_type": "code",
   "execution_count": 11,
   "id": "thorough-somewhere",
   "metadata": {},
   "outputs": [
    {
     "name": "stdout",
     "output_type": "stream",
     "text": [
      "Regressor(\n",
      "  (cnn0): Conv1d(1, 32, kernel_size=(3,), stride=(1,), padding=(2,))\n",
      "  (cnn1): Conv1d(32, 32, kernel_size=(3,), stride=(1,), padding=(2,))\n",
      "  (maxpool0): MaxPool1d(kernel_size=2, stride=2, padding=0, dilation=1, ceil_mode=False)\n",
      "  (maxpool1): MaxPool1d(kernel_size=2, stride=2, padding=0, dilation=1, ceil_mode=False)\n",
      "  (leakyrelu): LeakyReLU(negative_slope=0.2)\n",
      "  (ft): Flatten(start_dim=2, end_dim=-1)\n",
      "  (lstm): LSTM(288, 32, num_layers=2, batch_first=True)\n",
      "  (fc): Linear(in_features=34, out_features=1, bias=True)\n",
      ")\n"
     ]
    }
   ],
   "source": [
    "model = Regressor().to(device)\n",
    "print(model)"
   ]
  },
  {
   "cell_type": "code",
   "execution_count": 12,
   "id": "gothic-mount",
   "metadata": {},
   "outputs": [],
   "source": [
    "adam = torch.optim.Adam(model.parameters(), lr=0.01)\n",
    "criterion = nn.MSELoss()"
   ]
  },
  {
   "cell_type": "code",
   "execution_count": 13,
   "id": "advanced-stand",
   "metadata": {
    "scrolled": true
   },
   "outputs": [
    {
     "name": "stdout",
     "output_type": "stream",
     "text": [
      "epoch:001-loss:0.07605-val_loss:0.03755\n",
      "weight saved\n",
      "epoch:002-loss:0.03078-val_loss:0.00489\n",
      "weight saved\n",
      "epoch:003-loss:0.01200-val_loss:0.00284\n",
      "weight saved\n",
      "epoch:004-loss:0.00532-val_loss:0.00223\n",
      "weight saved\n",
      "epoch:005-loss:0.00475-val_loss:0.00122\n",
      "weight saved\n",
      "epoch:006-loss:0.00278-val_loss:0.00255\n",
      "epoch:007-loss:0.00253-val_loss:0.00097\n",
      "weight saved\n",
      "epoch:008-loss:0.00341-val_loss:0.00081\n",
      "weight saved\n",
      "epoch:009-loss:0.00238-val_loss:0.00070\n",
      "weight saved\n",
      "epoch:010-loss:0.00176-val_loss:0.00081\n",
      "epoch:011-loss:0.00133-val_loss:0.00058\n",
      "weight saved\n",
      "epoch:012-loss:0.00462-val_loss:0.00187\n",
      "epoch:013-loss:0.00199-val_loss:0.00052\n",
      "weight saved\n",
      "epoch:014-loss:0.00151-val_loss:0.00119\n",
      "epoch:015-loss:0.00163-val_loss:0.00088\n",
      "epoch:016-loss:0.00088-val_loss:0.00054\n",
      "epoch:017-loss:0.00097-val_loss:0.00036\n",
      "weight saved\n",
      "epoch:018-loss:0.00106-val_loss:0.00034\n",
      "weight saved\n",
      "epoch:019-loss:0.00142-val_loss:0.00037\n",
      "epoch:020-loss:0.00349-val_loss:0.00061\n",
      "epoch:021-loss:0.00238-val_loss:0.00102\n",
      "epoch:022-loss:0.00175-val_loss:0.00047\n",
      "epoch:023-loss:0.00227-val_loss:0.00036\n",
      "epoch:024-loss:0.00102-val_loss:0.00040\n",
      "epoch:025-loss:0.00092-val_loss:0.00054\n",
      "epoch:026-loss:0.00075-val_loss:0.00027\n",
      "weight saved\n",
      "epoch:027-loss:0.00056-val_loss:0.00019\n",
      "weight saved\n",
      "epoch:028-loss:0.00061-val_loss:0.00020\n",
      "epoch:029-loss:0.00125-val_loss:0.00058\n",
      "epoch:030-loss:0.00058-val_loss:0.00018\n",
      "weight saved\n",
      "epoch:031-loss:0.00180-val_loss:0.00110\n",
      "epoch:032-loss:0.00058-val_loss:0.00065\n",
      "epoch:033-loss:0.00133-val_loss:0.00025\n",
      "epoch:034-loss:0.00219-val_loss:0.00065\n",
      "epoch:035-loss:0.00069-val_loss:0.00039\n",
      "epoch:036-loss:0.00112-val_loss:0.00017\n",
      "weight saved\n",
      "epoch:037-loss:0.00234-val_loss:0.00069\n",
      "epoch:038-loss:0.00169-val_loss:0.00111\n",
      "epoch:039-loss:0.00064-val_loss:0.00029\n",
      "epoch:040-loss:0.00177-val_loss:0.00020\n",
      "epoch:041-loss:0.00153-val_loss:0.00019\n",
      "epoch:042-loss:0.00114-val_loss:0.00016\n",
      "weight saved\n",
      "epoch:043-loss:0.00162-val_loss:0.00070\n",
      "epoch:044-loss:0.00097-val_loss:0.00016\n",
      "epoch:045-loss:0.00037-val_loss:0.00021\n",
      "epoch:046-loss:0.00047-val_loss:0.00020\n",
      "epoch:047-loss:0.00049-val_loss:0.00014\n",
      "weight saved\n",
      "epoch:048-loss:0.00055-val_loss:0.00040\n",
      "epoch:049-loss:0.00033-val_loss:0.00027\n",
      "epoch:050-loss:0.00047-val_loss:0.00015\n",
      "epoch:051-loss:0.00099-val_loss:0.00012\n",
      "weight saved\n",
      "epoch:052-loss:0.00072-val_loss:0.00044\n",
      "epoch:053-loss:0.00067-val_loss:0.00178\n",
      "epoch:054-loss:0.00150-val_loss:0.00022\n",
      "epoch:055-loss:0.00118-val_loss:0.00019\n",
      "epoch:056-loss:0.00048-val_loss:0.00027\n",
      "epoch:057-loss:0.00036-val_loss:0.00028\n",
      "epoch:058-loss:0.00100-val_loss:0.00145\n",
      "epoch:059-loss:0.00096-val_loss:0.00029\n",
      "epoch:060-loss:0.00068-val_loss:0.00064\n",
      "epoch:061-loss:0.00049-val_loss:0.00016\n",
      "epoch:062-loss:0.00049-val_loss:0.00013\n",
      "epoch:063-loss:0.00034-val_loss:0.00013\n",
      "epoch:064-loss:0.00030-val_loss:0.00020\n",
      "epoch:065-loss:0.00049-val_loss:0.00065\n",
      "epoch:066-loss:0.00029-val_loss:0.00019\n",
      "epoch:067-loss:0.00030-val_loss:0.00011\n",
      "weight saved\n",
      "epoch:068-loss:0.00062-val_loss:0.00017\n",
      "epoch:069-loss:0.00027-val_loss:0.00019\n",
      "epoch:070-loss:0.00029-val_loss:0.00015\n",
      "epoch:071-loss:0.00033-val_loss:0.00012\n",
      "epoch:072-loss:0.00026-val_loss:0.00011\n",
      "weight saved\n",
      "epoch:073-loss:0.00022-val_loss:0.00010\n",
      "weight saved\n",
      "epoch:074-loss:0.00050-val_loss:0.00011\n",
      "epoch:075-loss:0.00039-val_loss:0.00018\n",
      "epoch:076-loss:0.00047-val_loss:0.00032\n",
      "epoch:077-loss:0.00046-val_loss:0.00016\n",
      "epoch:078-loss:0.00062-val_loss:0.00010\n",
      "epoch:079-loss:0.00039-val_loss:0.00054\n",
      "epoch:080-loss:0.00058-val_loss:0.00024\n",
      "epoch:081-loss:0.00018-val_loss:0.00010\n",
      "epoch:082-loss:0.00032-val_loss:0.00011\n",
      "epoch:083-loss:0.00036-val_loss:0.00021\n",
      "epoch:084-loss:0.00031-val_loss:0.00010\n",
      "epoch:085-loss:0.00027-val_loss:0.00019\n",
      "epoch:086-loss:0.00050-val_loss:0.00024\n",
      "epoch:087-loss:0.00025-val_loss:0.00024\n",
      "epoch:088-loss:0.00077-val_loss:0.00010\n",
      "weight saved\n",
      "epoch:089-loss:0.00316-val_loss:0.00127\n",
      "epoch:090-loss:0.00205-val_loss:0.00064\n",
      "epoch:091-loss:0.00040-val_loss:0.00013\n",
      "epoch:092-loss:0.00046-val_loss:0.00010\n",
      "epoch:093-loss:0.00040-val_loss:0.00019\n",
      "epoch:094-loss:0.00031-val_loss:0.00012\n",
      "epoch:095-loss:0.00024-val_loss:0.00043\n",
      "epoch:096-loss:0.00020-val_loss:0.00043\n",
      "epoch:097-loss:0.00020-val_loss:0.00011\n",
      "epoch:098-loss:0.00021-val_loss:0.00021\n",
      "epoch:099-loss:0.00036-val_loss:0.00009\n",
      "weight saved\n",
      "epoch:100-loss:0.00032-val_loss:0.00039\n",
      "epoch:101-loss:0.00048-val_loss:0.00011\n",
      "epoch:102-loss:0.00037-val_loss:0.00015\n",
      "epoch:103-loss:0.00033-val_loss:0.00010\n",
      "epoch:104-loss:0.00018-val_loss:0.00012\n",
      "epoch:105-loss:0.00020-val_loss:0.00014\n",
      "epoch:106-loss:0.00025-val_loss:0.00012\n",
      "epoch:107-loss:0.00030-val_loss:0.00010\n",
      "epoch:108-loss:0.00035-val_loss:0.00016\n",
      "epoch:109-loss:0.00055-val_loss:0.00010\n",
      "epoch:110-loss:0.00027-val_loss:0.00012\n",
      "epoch:111-loss:0.00025-val_loss:0.00010\n",
      "epoch:112-loss:0.00082-val_loss:0.00038\n",
      "epoch:113-loss:0.00068-val_loss:0.00047\n",
      "epoch:114-loss:0.00027-val_loss:0.00010\n",
      "epoch:115-loss:0.00054-val_loss:0.00035\n",
      "epoch:116-loss:0.00044-val_loss:0.00182\n",
      "epoch:117-loss:0.00040-val_loss:0.00096\n",
      "epoch:118-loss:0.00061-val_loss:0.00018\n",
      "epoch:119-loss:0.00038-val_loss:0.00040\n",
      "epoch:120-loss:0.00029-val_loss:0.00019\n",
      "epoch:121-loss:0.00058-val_loss:0.00008\n",
      "weight saved\n",
      "epoch:122-loss:0.00072-val_loss:0.00029\n",
      "epoch:123-loss:0.00087-val_loss:0.00010\n",
      "epoch:124-loss:0.00039-val_loss:0.00036\n",
      "epoch:125-loss:0.00051-val_loss:0.00010\n",
      "epoch:126-loss:0.00054-val_loss:0.00009\n",
      "epoch:127-loss:0.00035-val_loss:0.00010\n",
      "epoch:128-loss:0.00055-val_loss:0.00011\n",
      "epoch:129-loss:0.00059-val_loss:0.00010\n",
      "epoch:130-loss:0.00057-val_loss:0.00018\n",
      "epoch:131-loss:0.00034-val_loss:0.00015\n",
      "epoch:132-loss:0.00040-val_loss:0.00019\n",
      "epoch:133-loss:0.00040-val_loss:0.00011\n",
      "epoch:134-loss:0.00030-val_loss:0.00010\n",
      "epoch:135-loss:0.00028-val_loss:0.00017\n",
      "epoch:136-loss:0.00048-val_loss:0.00020\n",
      "epoch:137-loss:0.00038-val_loss:0.00013\n",
      "epoch:138-loss:0.00026-val_loss:0.00009\n",
      "epoch:139-loss:0.00071-val_loss:0.00012\n",
      "epoch:140-loss:0.00046-val_loss:0.00015\n",
      "epoch:141-loss:0.00055-val_loss:0.00013\n",
      "epoch:142-loss:0.00033-val_loss:0.00009\n",
      "epoch:143-loss:0.00036-val_loss:0.00014\n",
      "epoch:144-loss:0.00027-val_loss:0.00014\n",
      "epoch:145-loss:0.00031-val_loss:0.00011\n",
      "epoch:146-loss:0.00021-val_loss:0.00011\n",
      "epoch:147-loss:0.00050-val_loss:0.00034\n",
      "epoch:148-loss:0.00020-val_loss:0.00020\n",
      "epoch:149-loss:0.00057-val_loss:0.00010\n",
      "epoch:150-loss:0.00028-val_loss:0.00013\n",
      "epoch:151-loss:0.00029-val_loss:0.00031\n",
      "epoch:152-loss:0.00074-val_loss:0.00012\n",
      "epoch:153-loss:0.00036-val_loss:0.00144\n",
      "epoch:154-loss:0.00050-val_loss:0.00049\n",
      "epoch:155-loss:0.00043-val_loss:0.00011\n",
      "epoch:156-loss:0.00047-val_loss:0.00017\n",
      "epoch:157-loss:0.00068-val_loss:0.00022\n",
      "epoch:158-loss:0.00026-val_loss:0.00008\n",
      "weight saved\n",
      "epoch:159-loss:0.00022-val_loss:0.00014\n",
      "epoch:160-loss:0.00032-val_loss:0.00009\n",
      "epoch:161-loss:0.00129-val_loss:0.00044\n",
      "epoch:162-loss:0.00067-val_loss:0.00013\n",
      "epoch:163-loss:0.00034-val_loss:0.00072\n",
      "epoch:164-loss:0.00030-val_loss:0.00047\n",
      "epoch:165-loss:0.00061-val_loss:0.00018\n",
      "epoch:166-loss:0.00031-val_loss:0.00013\n",
      "epoch:167-loss:0.00086-val_loss:0.00017\n",
      "epoch:168-loss:0.00040-val_loss:0.00011\n",
      "epoch:169-loss:0.00030-val_loss:0.00023\n",
      "epoch:170-loss:0.00048-val_loss:0.00019\n",
      "epoch:171-loss:0.00024-val_loss:0.00011\n",
      "epoch:172-loss:0.00018-val_loss:0.00008\n",
      "epoch:173-loss:0.00040-val_loss:0.00029\n",
      "epoch:174-loss:0.00046-val_loss:0.00023\n",
      "epoch:175-loss:0.00073-val_loss:0.00024\n",
      "epoch:176-loss:0.00135-val_loss:0.00011\n",
      "epoch:177-loss:0.00066-val_loss:0.00021\n",
      "epoch:178-loss:0.00052-val_loss:0.00042\n",
      "epoch:179-loss:0.00112-val_loss:0.00018\n",
      "epoch:180-loss:0.00035-val_loss:0.00091\n",
      "epoch:181-loss:0.00031-val_loss:0.00025\n",
      "epoch:182-loss:0.00026-val_loss:0.00011\n",
      "epoch:183-loss:0.00040-val_loss:0.00009\n",
      "epoch:184-loss:0.00048-val_loss:0.00016\n",
      "epoch:185-loss:0.00037-val_loss:0.00009\n",
      "epoch:186-loss:0.00080-val_loss:0.00015\n",
      "epoch:187-loss:0.00029-val_loss:0.00010\n",
      "epoch:188-loss:0.00027-val_loss:0.00020\n",
      "epoch:189-loss:0.00040-val_loss:0.00040\n",
      "epoch:190-loss:0.00041-val_loss:0.00016\n",
      "epoch:191-loss:0.00099-val_loss:0.00043\n",
      "epoch:192-loss:0.00137-val_loss:0.00012\n",
      "epoch:193-loss:0.00055-val_loss:0.00052\n",
      "epoch:194-loss:0.00032-val_loss:0.00066\n",
      "epoch:195-loss:0.00061-val_loss:0.00009\n",
      "epoch:196-loss:0.00050-val_loss:0.00012\n",
      "epoch:197-loss:0.00042-val_loss:0.00010\n"
     ]
    },
    {
     "name": "stdout",
     "output_type": "stream",
     "text": [
      "epoch:198-loss:0.00030-val_loss:0.00009\n",
      "epoch:199-loss:0.00025-val_loss:0.00010\n",
      "epoch:200-loss:0.00024-val_loss:0.00010\n"
     ]
    }
   ],
   "source": [
    "history = dict()\n",
    "history['loss'] = []\n",
    "history['val_loss'] = []\n",
    "for epoch in range(epochs):\n",
    "    for x_batch, train_batch, y_batch in dataloader:\n",
    "        model.train()\n",
    "        y_pred = model(x_batch, train_batch)\n",
    "        loss = criterion(y_pred, y_batch)\n",
    "        loss.backward()\n",
    "        adam.step()\n",
    "        adam.zero_grad()\n",
    "    with torch.no_grad():\n",
    "        model.eval()\n",
    "        y_pred = model(x_val, val)\n",
    "        val_loss = criterion(y_pred, y_val)\n",
    "    print(f'epoch:{epoch + 1:03d}-loss:{loss.item():.5f}-val_loss:{val_loss.item():.5f}')\n",
    "    history['loss'].append(loss.item())\n",
    "    history['val_loss'].append(val_loss.item())\n",
    "    if val_loss.item() <= best_model:\n",
    "        best_model = val_loss\n",
    "        torch.save(model, 'checkpoint_.pt')\n",
    "        print('weight saved')\n",
    "model = torch.load('checkpoint_.pt')"
   ]
  },
  {
   "cell_type": "code",
   "execution_count": 14,
   "id": "accessory-bargain",
   "metadata": {},
   "outputs": [],
   "source": [
    "model.eval()\n",
    "with torch.no_grad():\n",
    "    predict = model(x_test, test).cpu().numpy()\n",
    "    predict = scaler.inverse_transform(predict)"
   ]
  },
  {
   "cell_type": "code",
   "execution_count": 15,
   "id": "proper-poker",
   "metadata": {},
   "outputs": [
    {
     "data": {
      "text/plain": [
       "22.019998209635418"
      ]
     },
     "execution_count": 15,
     "metadata": {},
     "output_type": "execute_result"
    },
    {
     "data": {
      "image/png": "[encoded data removed]",
      "text/plain": [
       "<Figure size 432x288 with 1 Axes>"
      ]
     },
     "metadata": {
      "needs_background": "light"
     },
     "output_type": "display_data"
    }
   ],
   "source": [
    "plt.plot(y_test)\n",
    "plt.plot(predict)\n",
    "metrics.mean_absolute_error(predict, y_test)"
   ]
  },
  {
   "cell_type": "code",
   "execution_count": 16,
   "id": "optional-vanilla",
   "metadata": {},
   "outputs": [
    {
     "data": {
      "text/plain": [
       "[<matplotlib.lines.Line2D at 0x7f29f7573340>]"
      ]
     },
     "execution_count": 16,
     "metadata": {},
     "output_type": "execute_result"
    },
    {
     "data": {
      "image/png": "[encoded data removed]",
      "text/plain": [
       "<Figure size 432x288 with 1 Axes>"
      ]
     },
     "metadata": {
      "needs_background": "light"
     },
     "output_type": "display_data"
    }
   ],
   "source": [
    "plt.plot(history['loss'])\n",
    "plt.plot(history['val_loss'])"
   ]
  }
 ],
 "metadata": {
  "kernelspec": {
   "display_name": "Python [conda env:torch]",
   "language": "python",
   "name": "conda-env-torch-py"
  },
  "language_info": {
   "codemirror_mode": {
    "name": "ipython",
    "version": 3
   },
   "file_extension": ".py",
   "mimetype": "text/x-python",
   "name": "python",
   "nbconvert_exporter": "python",
   "pygments_lexer": "ipython3",
   "version": "3.8.5"
  }
 },
 "nbformat": 4,
 "nbformat_minor": 5
}
