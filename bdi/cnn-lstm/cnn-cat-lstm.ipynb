{
 "cells": [
  {
   "cell_type": "code",
   "execution_count": 1,
   "id": "fiscal-silicon",
   "metadata": {},
   "outputs": [],
   "source": [
    "import tensorflow as tf\n",
    "import matplotlib.pyplot as plt\n",
    "import pandas as pd\n",
    "import numpy as np\n",
    "from tensorflow.keras import models, layers, callbacks, optimizers, regularizers\n",
    "from sklearn import preprocessing\n",
    "from sklearn import model_selection\n",
    "from sklearn import metrics\n",
    "physical_devices = tf.config.list_physical_devices('GPU')\n",
    "tf.config.experimental.set_memory_growth(physical_devices[0], enable=True)"
   ]
  },
  {
   "cell_type": "code",
   "execution_count": 2,
   "id": "focal-yeast",
   "metadata": {},
   "outputs": [],
   "source": [
    "def Split(x, y, seed=0):\n",
    "    a = int(0.8 * x.shape[0])\n",
    "    b = int(0.9 * x.shape[0])\n",
    "    index = np.arange(a)\n",
    "    np.random.seed(seed)\n",
    "    np.random.shuffle(index)\n",
    "    return x[:a][index], y[:a][index], x[a:b], y[a:b], x[b:], y[b:]"
   ]
  },
  {
   "cell_type": "code",
   "execution_count": 3,
   "id": "qualified-stage",
   "metadata": {},
   "outputs": [],
   "source": [
    "class StandardScaler:\n",
    "    def __init__(self, data):\n",
    "        self.mean = np.mean(data)\n",
    "        self.std = np.std(data)\n",
    "\n",
    "    def transform(self, data):\n",
    "        return (data - self.mean) / self.std\n",
    "\n",
    "    def inverse_transform(self, data):\n",
    "        return data * self.std + self.mean"
   ]
  },
  {
   "cell_type": "code",
   "execution_count": 4,
   "id": "informational-handy",
   "metadata": {},
   "outputs": [],
   "source": [
    "def Net(shape1, shape2):\n",
    "    inputs1 = layers.Input(shape=shape1)\n",
    "    a = layers.TimeDistributed(layers.Conv1D(32, kernel_size=4, padding='same'))(inputs1)\n",
    "    a = layers.LeakyReLU(0.2)(a)\n",
    "    a = layers.TimeDistributed(layers.MaxPool1D())(a)\n",
    "    a = layers.TimeDistributed(layers.Conv1D(32, kernel_size=2, padding='same'))(a)\n",
    "    a = layers.LeakyReLU(0.2)(a)\n",
    "    a = layers.TimeDistributed(layers.MaxPool1D())(a)\n",
    "    a = layers.TimeDistributed(layers.Flatten())(a)\n",
    "    a = layers.LSTM(64, return_sequences=True)(a)\n",
    "    a = layers.LSTM(64)(a)\n",
    "    inputs2 = layers.Input(shape=shape2)\n",
    "    b = layers.Concatenate()([a, inputs2])\n",
    "    b = layers.Dense(1)(b)\n",
    "    return models.Model(inputs=[inputs1, inputs2], outputs=b)"
   ]
  },
  {
   "cell_type": "code",
   "execution_count": 5,
   "id": "above-absolute",
   "metadata": {},
   "outputs": [
    {
     "data": {
      "text/html": [
       "<div>\n",
       "<style scoped>\n",
       "    .dataframe tbody tr th:only-of-type {\n",
       "        vertical-align: middle;\n",
       "    }\n",
       "\n",
       "    .dataframe tbody tr th {\n",
       "        vertical-align: top;\n",
       "    }\n",
       "\n",
       "    .dataframe thead th {\n",
       "        text-align: right;\n",
       "    }\n",
       "</style>\n",
       "<table border=\"1\" class=\"dataframe\">\n",
       "  <thead>\n",
       "    <tr style=\"text-align: right;\">\n",
       "      <th></th>\n",
       "      <th>bdi</th>\n",
       "    </tr>\n",
       "    <tr>\n",
       "      <th>date</th>\n",
       "      <th></th>\n",
       "    </tr>\n",
       "  </thead>\n",
       "  <tbody>\n",
       "    <tr>\n",
       "      <th>2000-01-01</th>\n",
       "      <td>1319.0</td>\n",
       "    </tr>\n",
       "    <tr>\n",
       "      <th>2000-01-02</th>\n",
       "      <td>NaN</td>\n",
       "    </tr>\n",
       "    <tr>\n",
       "      <th>2000-01-03</th>\n",
       "      <td>NaN</td>\n",
       "    </tr>\n",
       "    <tr>\n",
       "      <th>2000-01-04</th>\n",
       "      <td>1320.0</td>\n",
       "    </tr>\n",
       "    <tr>\n",
       "      <th>2000-01-05</th>\n",
       "      <td>1329.0</td>\n",
       "    </tr>\n",
       "    <tr>\n",
       "      <th>...</th>\n",
       "      <td>...</td>\n",
       "    </tr>\n",
       "    <tr>\n",
       "      <th>2020-10-05</th>\n",
       "      <td>2071.0</td>\n",
       "    </tr>\n",
       "    <tr>\n",
       "      <th>2020-10-06</th>\n",
       "      <td>2097.0</td>\n",
       "    </tr>\n",
       "    <tr>\n",
       "      <th>2020-10-07</th>\n",
       "      <td>2044.0</td>\n",
       "    </tr>\n",
       "    <tr>\n",
       "      <th>2020-10-08</th>\n",
       "      <td>1970.0</td>\n",
       "    </tr>\n",
       "    <tr>\n",
       "      <th>2020-10-09</th>\n",
       "      <td>1892.0</td>\n",
       "    </tr>\n",
       "  </tbody>\n",
       "</table>\n",
       "<p>7588 rows × 1 columns</p>\n",
       "</div>"
      ],
      "text/plain": [
       "               bdi\n",
       "date              \n",
       "2000-01-01  1319.0\n",
       "2000-01-02     NaN\n",
       "2000-01-03     NaN\n",
       "2000-01-04  1320.0\n",
       "2000-01-05  1329.0\n",
       "...            ...\n",
       "2020-10-05  2071.0\n",
       "2020-10-06  2097.0\n",
       "2020-10-07  2044.0\n",
       "2020-10-08  1970.0\n",
       "2020-10-09  1892.0\n",
       "\n",
       "[7588 rows x 1 columns]"
      ]
     },
     "execution_count": 5,
     "metadata": {},
     "output_type": "execute_result"
    }
   ],
   "source": [
    "df = pd.read_csv('bdi.csv', parse_dates=['date'], index_col=['date'])\n",
    "df"
   ]
  },
  {
   "cell_type": "code",
   "execution_count": 6,
   "id": "married-rescue",
   "metadata": {},
   "outputs": [
    {
     "data": {
      "text/plain": [
       "[<matplotlib.lines.Line2D at 0x7ff8b0fbb890>]"
      ]
     },
     "execution_count": 6,
     "metadata": {},
     "output_type": "execute_result"
    },
    {
     "data": {
      "image/png": "[encoded data removed]",
      "text/plain": [
       "<Figure size 432x288 with 1 Axes>"
      ]
     },
     "metadata": {
      "needs_background": "light"
     },
     "output_type": "display_data"
    }
   ],
   "source": [
    "plt.plot(df)"
   ]
  },
  {
   "cell_type": "code",
   "execution_count": 7,
   "id": "popular-riverside",
   "metadata": {},
   "outputs": [
    {
     "data": {
      "text/plain": [
       "[<matplotlib.lines.Line2D at 0x7ff8b0fa6f10>]"
      ]
     },
     "execution_count": 7,
     "metadata": {},
     "output_type": "execute_result"
    },
    {
     "data": {
      "image/png": "[encoded data removed]",
      "text/plain": [
       "<Figure size 432x288 with 1 Axes>"
      ]
     },
     "metadata": {
      "needs_background": "light"
     },
     "output_type": "display_data"
    }
   ],
   "source": [
    "df.fillna(method='ffill', inplace=True)\n",
    "plt.plot(df)"
   ]
  },
  {
   "cell_type": "code",
   "execution_count": 8,
   "id": "specified-jacksonville",
   "metadata": {},
   "outputs": [],
   "source": [
    "train = pd.read_csv('train.csv').values\n",
    "val = pd.read_csv('val.csv').values\n",
    "test = pd.read_csv('test.csv').values"
   ]
  },
  {
   "cell_type": "code",
   "execution_count": 9,
   "id": "meaningful-daniel",
   "metadata": {},
   "outputs": [],
   "source": [
    "data = df.values"
   ]
  },
  {
   "cell_type": "code",
   "execution_count": 10,
   "id": "developed-chance",
   "metadata": {},
   "outputs": [],
   "source": [
    "y = np.array([data[i] for i in range(90, data.shape[0])]).reshape(-1,1)\n",
    "x = np.array([data[i-30:i] for i in range(30, data.shape[0])]).reshape(-1,30,1)\n",
    "x = np.array([x[i-61:i] for i in range(61, x.shape[0]+1)])"
   ]
  },
  {
   "cell_type": "code",
   "execution_count": 11,
   "id": "tropical-phrase",
   "metadata": {},
   "outputs": [],
   "source": [
    "x_train, y_train, x_val, y_val, x_test, y_test = Split(x, y, seed=42)"
   ]
  },
  {
   "cell_type": "code",
   "execution_count": 12,
   "id": "straight-opera",
   "metadata": {},
   "outputs": [],
   "source": [
    "scaler = StandardScaler(y_train)\n",
    "x_train = scaler.transform(x_train)\n",
    "y_train = scaler.transform(y_train)\n",
    "x_val = scaler.transform(x_val)\n",
    "y_val = scaler.transform(y_val)\n",
    "x_test = scaler.transform(x_test)"
   ]
  },
  {
   "cell_type": "code",
   "execution_count": 13,
   "id": "ceramic-terror",
   "metadata": {
    "scrolled": false
   },
   "outputs": [
    {
     "name": "stdout",
     "output_type": "stream",
     "text": [
      "Model: \"model\"\n",
      "__________________________________________________________________________________________________\n",
      "Layer (type)                    Output Shape         Param #     Connected to                     \n",
      "==================================================================================================\n",
      "input_1 (InputLayer)            [(None, 61, 30, 1)]  0                                            \n",
      "__________________________________________________________________________________________________\n",
      "time_distributed (TimeDistribut (None, 61, 30, 32)   160         input_1[0][0]                    \n",
      "__________________________________________________________________________________________________\n",
      "leaky_re_lu (LeakyReLU)         (None, 61, 30, 32)   0           time_distributed[0][0]           \n",
      "__________________________________________________________________________________________________\n",
      "time_distributed_1 (TimeDistrib (None, 61, 15, 32)   0           leaky_re_lu[0][0]                \n",
      "__________________________________________________________________________________________________\n",
      "time_distributed_2 (TimeDistrib (None, 61, 15, 32)   2080        time_distributed_1[0][0]         \n",
      "__________________________________________________________________________________________________\n",
      "leaky_re_lu_1 (LeakyReLU)       (None, 61, 15, 32)   0           time_distributed_2[0][0]         \n",
      "__________________________________________________________________________________________________\n",
      "time_distributed_3 (TimeDistrib (None, 61, 7, 32)    0           leaky_re_lu_1[0][0]              \n",
      "__________________________________________________________________________________________________\n",
      "time_distributed_4 (TimeDistrib (None, 61, 224)      0           time_distributed_3[0][0]         \n",
      "__________________________________________________________________________________________________\n",
      "lstm (LSTM)                     (None, 61, 64)       73984       time_distributed_4[0][0]         \n",
      "__________________________________________________________________________________________________\n",
      "lstm_1 (LSTM)                   (None, 64)           33024       lstm[0][0]                       \n",
      "__________________________________________________________________________________________________\n",
      "input_2 (InputLayer)            [(None, 3)]          0                                            \n",
      "__________________________________________________________________________________________________\n",
      "concatenate (Concatenate)       (None, 67)           0           lstm_1[0][0]                     \n",
      "                                                                 input_2[0][0]                    \n",
      "__________________________________________________________________________________________________\n",
      "dense (Dense)                   (None, 1)            68          concatenate[0][0]                \n",
      "==================================================================================================\n",
      "Total params: 109,316\n",
      "Trainable params: 109,316\n",
      "Non-trainable params: 0\n",
      "__________________________________________________________________________________________________\n"
     ]
    }
   ],
   "source": [
    "model = Net([x.shape[1], x.shape[2], x.shape[3]], [train.shape[1]])\n",
    "model.compile(loss='mse', optimizer='adam')\n",
    "model.summary()"
   ]
  },
  {
   "cell_type": "code",
   "execution_count": 14,
   "id": "dirty-storm",
   "metadata": {
    "scrolled": true
   },
   "outputs": [
    {
     "name": "stdout",
     "output_type": "stream",
     "text": [
      "Epoch 1/100\n",
      "47/47 [==============================] - 5s 113ms/step - loss: 0.1181 - val_loss: 0.0378\n",
      "Epoch 2/100\n",
      "47/47 [==============================] - 1s 21ms/step - loss: 0.0351 - val_loss: 0.0174\n",
      "Epoch 3/100\n",
      "47/47 [==============================] - 1s 20ms/step - loss: 0.0232 - val_loss: 0.0104\n",
      "Epoch 4/100\n",
      "47/47 [==============================] - 1s 21ms/step - loss: 0.0145 - val_loss: 0.0064\n",
      "Epoch 5/100\n",
      "47/47 [==============================] - 1s 21ms/step - loss: 0.0102 - val_loss: 0.0049\n",
      "Epoch 6/100\n",
      "47/47 [==============================] - 1s 21ms/step - loss: 0.0078 - val_loss: 0.0027\n",
      "Epoch 7/100\n",
      "47/47 [==============================] - 1s 20ms/step - loss: 0.0059 - val_loss: 0.0020\n",
      "Epoch 8/100\n",
      "47/47 [==============================] - 1s 20ms/step - loss: 0.0049 - val_loss: 0.0030\n",
      "Epoch 9/100\n",
      "47/47 [==============================] - 1s 20ms/step - loss: 0.0035 - val_loss: 0.0020\n",
      "Epoch 10/100\n",
      "47/47 [==============================] - 1s 21ms/step - loss: 0.0028 - val_loss: 0.0013\n",
      "Epoch 11/100\n",
      "47/47 [==============================] - 1s 20ms/step - loss: 0.0027 - val_loss: 0.0013\n",
      "Epoch 12/100\n",
      "47/47 [==============================] - 1s 21ms/step - loss: 0.0026 - val_loss: 0.0010\n",
      "Epoch 13/100\n",
      "47/47 [==============================] - 1s 21ms/step - loss: 0.0021 - val_loss: 8.9005e-04\n",
      "Epoch 14/100\n",
      "47/47 [==============================] - 1s 20ms/step - loss: 0.0022 - val_loss: 8.9615e-04\n",
      "Epoch 15/100\n",
      "47/47 [==============================] - 1s 21ms/step - loss: 0.0021 - val_loss: 7.8089e-04\n",
      "Epoch 16/100\n",
      "47/47 [==============================] - 1s 20ms/step - loss: 0.0023 - val_loss: 8.9019e-04\n",
      "Epoch 17/100\n",
      "47/47 [==============================] - 1s 20ms/step - loss: 0.0018 - val_loss: 0.0012\n",
      "Epoch 18/100\n",
      "47/47 [==============================] - 1s 21ms/step - loss: 0.0015 - val_loss: 6.9880e-04\n",
      "Epoch 19/100\n",
      "47/47 [==============================] - 1s 21ms/step - loss: 0.0015 - val_loss: 5.2927e-04\n",
      "Epoch 20/100\n",
      "47/47 [==============================] - 1s 20ms/step - loss: 0.0018 - val_loss: 6.4329e-04\n",
      "Epoch 21/100\n",
      "47/47 [==============================] - 1s 20ms/step - loss: 0.0017 - val_loss: 0.0015\n",
      "Epoch 22/100\n",
      "47/47 [==============================] - 1s 20ms/step - loss: 0.0017 - val_loss: 5.5521e-04\n",
      "Epoch 23/100\n",
      "47/47 [==============================] - 1s 20ms/step - loss: 0.0014 - val_loss: 0.0011\n",
      "Epoch 24/100\n",
      "47/47 [==============================] - 1s 20ms/step - loss: 0.0012 - val_loss: 5.0624e-04\n",
      "Epoch 25/100\n",
      "47/47 [==============================] - 1s 21ms/step - loss: 0.0012 - val_loss: 3.9123e-04\n",
      "Epoch 26/100\n",
      "47/47 [==============================] - 1s 20ms/step - loss: 0.0012 - val_loss: 5.4633e-04\n",
      "Epoch 27/100\n",
      "47/47 [==============================] - 1s 21ms/step - loss: 0.0012 - val_loss: 3.6839e-04\n",
      "Epoch 28/100\n",
      "47/47 [==============================] - 1s 20ms/step - loss: 0.0011 - val_loss: 3.6168e-04\n",
      "Epoch 29/100\n",
      "47/47 [==============================] - 1s 20ms/step - loss: 0.0019 - val_loss: 3.9157e-04\n",
      "Epoch 30/100\n",
      "47/47 [==============================] - 1s 20ms/step - loss: 0.0012 - val_loss: 6.7499e-04\n",
      "Epoch 31/100\n",
      "47/47 [==============================] - 1s 20ms/step - loss: 0.0010 - val_loss: 8.2833e-04\n",
      "Epoch 32/100\n",
      "47/47 [==============================] - 1s 20ms/step - loss: 9.2989e-04 - val_loss: 4.0304e-04\n",
      "Epoch 33/100\n",
      "47/47 [==============================] - 1s 20ms/step - loss: 7.9869e-04 - val_loss: 3.6449e-04\n",
      "Epoch 34/100\n",
      "47/47 [==============================] - 1s 20ms/step - loss: 9.5819e-04 - val_loss: 3.6985e-04\n",
      "Epoch 35/100\n",
      "47/47 [==============================] - 1s 20ms/step - loss: 9.1490e-04 - val_loss: 4.1206e-04\n",
      "Epoch 36/100\n",
      "47/47 [==============================] - 1s 20ms/step - loss: 7.1037e-04 - val_loss: 5.0473e-04\n",
      "Epoch 37/100\n",
      "47/47 [==============================] - 1s 20ms/step - loss: 6.9861e-04 - val_loss: 2.7665e-04\n",
      "Epoch 38/100\n",
      "47/47 [==============================] - 1s 20ms/step - loss: 7.2565e-04 - val_loss: 3.2485e-04\n",
      "Epoch 39/100\n",
      "47/47 [==============================] - 1s 20ms/step - loss: 9.1915e-04 - val_loss: 3.1471e-04\n",
      "Epoch 40/100\n",
      "47/47 [==============================] - 1s 20ms/step - loss: 6.4009e-04 - val_loss: 2.9622e-04\n",
      "Epoch 41/100\n",
      "47/47 [==============================] - 1s 21ms/step - loss: 6.9897e-04 - val_loss: 2.4126e-04\n",
      "Epoch 42/100\n",
      "47/47 [==============================] - 1s 20ms/step - loss: 7.0413e-04 - val_loss: 2.7683e-04\n",
      "Epoch 43/100\n",
      "47/47 [==============================] - 1s 21ms/step - loss: 6.0521e-04 - val_loss: 2.3670e-04\n",
      "Epoch 44/100\n",
      "47/47 [==============================] - 1s 20ms/step - loss: 7.6871e-04 - val_loss: 2.4381e-04\n",
      "Epoch 45/100\n",
      "47/47 [==============================] - 1s 20ms/step - loss: 0.0013 - val_loss: 6.6605e-04\n",
      "Epoch 46/100\n",
      "47/47 [==============================] - 1s 20ms/step - loss: 6.3977e-04 - val_loss: 4.1506e-04\n",
      "Epoch 47/100\n",
      "47/47 [==============================] - 1s 20ms/step - loss: 7.8315e-04 - val_loss: 3.1595e-04\n",
      "Epoch 48/100\n",
      "47/47 [==============================] - 1s 20ms/step - loss: 5.3436e-04 - val_loss: 2.6304e-04\n",
      "Epoch 49/100\n",
      "47/47 [==============================] - 1s 21ms/step - loss: 5.6860e-04 - val_loss: 2.3202e-04\n",
      "Epoch 50/100\n",
      "47/47 [==============================] - 1s 21ms/step - loss: 5.2927e-04 - val_loss: 2.1618e-04\n",
      "Epoch 51/100\n",
      "47/47 [==============================] - 1s 20ms/step - loss: 6.6662e-04 - val_loss: 2.7087e-04\n",
      "Epoch 52/100\n",
      "47/47 [==============================] - 1s 20ms/step - loss: 6.6029e-04 - val_loss: 2.7117e-04\n",
      "Epoch 53/100\n",
      "47/47 [==============================] - 1s 20ms/step - loss: 0.0011 - val_loss: 9.4311e-04\n",
      "Epoch 54/100\n",
      "47/47 [==============================] - 1s 21ms/step - loss: 7.5501e-04 - val_loss: 2.1092e-04\n",
      "Epoch 55/100\n",
      "47/47 [==============================] - 1s 21ms/step - loss: 4.7738e-04 - val_loss: 1.9971e-04\n",
      "Epoch 56/100\n",
      "47/47 [==============================] - 1s 22ms/step - loss: 5.3963e-04 - val_loss: 2.5797e-04\n",
      "Epoch 57/100\n",
      "47/47 [==============================] - 1s 20ms/step - loss: 6.1917e-04 - val_loss: 2.6514e-04\n",
      "Epoch 58/100\n",
      "47/47 [==============================] - 1s 20ms/step - loss: 5.3203e-04 - val_loss: 1.7494e-04\n",
      "Epoch 59/100\n",
      "47/47 [==============================] - 1s 21ms/step - loss: 4.3948e-04 - val_loss: 1.6561e-04\n",
      "Epoch 60/100\n",
      "47/47 [==============================] - 1s 20ms/step - loss: 3.9863e-04 - val_loss: 1.8218e-04\n",
      "Epoch 61/100\n",
      "47/47 [==============================] - 1s 20ms/step - loss: 4.6277e-04 - val_loss: 1.4867e-04\n",
      "Epoch 62/100\n",
      "47/47 [==============================] - 1s 20ms/step - loss: 4.2918e-04 - val_loss: 1.5050e-04\n",
      "Epoch 63/100\n",
      "47/47 [==============================] - 1s 20ms/step - loss: 5.6617e-04 - val_loss: 2.3130e-04\n",
      "Epoch 64/100\n",
      "47/47 [==============================] - 1s 20ms/step - loss: 4.3211e-04 - val_loss: 1.9250e-04\n",
      "Epoch 65/100\n",
      "47/47 [==============================] - 1s 21ms/step - loss: 4.4682e-04 - val_loss: 1.3698e-04\n",
      "Epoch 66/100\n",
      "47/47 [==============================] - 1s 20ms/step - loss: 4.2810e-04 - val_loss: 1.7180e-04\n",
      "Epoch 67/100\n",
      "47/47 [==============================] - 1s 20ms/step - loss: 5.9541e-04 - val_loss: 1.3950e-04\n",
      "Epoch 68/100\n",
      "47/47 [==============================] - 1s 20ms/step - loss: 3.9027e-04 - val_loss: 1.9389e-04\n",
      "Epoch 69/100\n",
      "47/47 [==============================] - 1s 20ms/step - loss: 5.5800e-04 - val_loss: 4.5279e-04\n",
      "Epoch 70/100\n",
      "47/47 [==============================] - 1s 20ms/step - loss: 6.4393e-04 - val_loss: 1.5922e-04\n",
      "Epoch 71/100\n",
      "47/47 [==============================] - 1s 20ms/step - loss: 4.5314e-04 - val_loss: 1.9170e-04\n",
      "Epoch 72/100\n",
      "47/47 [==============================] - 1s 21ms/step - loss: 3.5962e-04 - val_loss: 1.2823e-04\n",
      "Epoch 73/100\n",
      "47/47 [==============================] - 1s 20ms/step - loss: 4.9084e-04 - val_loss: 2.7195e-04\n",
      "Epoch 74/100\n",
      "47/47 [==============================] - 1s 20ms/step - loss: 4.0745e-04 - val_loss: 2.4702e-04\n",
      "Epoch 75/100\n",
      "47/47 [==============================] - 1s 20ms/step - loss: 5.0895e-04 - val_loss: 1.4685e-04\n",
      "Epoch 76/100\n",
      "47/47 [==============================] - 1s 20ms/step - loss: 4.1469e-04 - val_loss: 1.3707e-04\n",
      "Epoch 77/100\n",
      "47/47 [==============================] - 1s 20ms/step - loss: 5.1375e-04 - val_loss: 3.1350e-04\n"
     ]
    },
    {
     "name": "stdout",
     "output_type": "stream",
     "text": [
      "Epoch 78/100\n",
      "47/47 [==============================] - 1s 20ms/step - loss: 7.4841e-04 - val_loss: 1.3401e-04\n",
      "Epoch 79/100\n",
      "47/47 [==============================] - 1s 21ms/step - loss: 3.9133e-04 - val_loss: 1.2588e-04\n",
      "Epoch 80/100\n",
      "47/47 [==============================] - 1s 20ms/step - loss: 6.7455e-04 - val_loss: 2.1682e-04\n",
      "Epoch 81/100\n",
      "47/47 [==============================] - 1s 20ms/step - loss: 7.4443e-04 - val_loss: 2.3794e-04\n",
      "Epoch 82/100\n",
      "47/47 [==============================] - 1s 20ms/step - loss: 5.6704e-04 - val_loss: 2.3409e-04\n",
      "Epoch 83/100\n",
      "47/47 [==============================] - 1s 20ms/step - loss: 4.0284e-04 - val_loss: 1.6394e-04\n",
      "Epoch 84/100\n",
      "47/47 [==============================] - 1s 20ms/step - loss: 3.7453e-04 - val_loss: 2.1374e-04\n",
      "Epoch 85/100\n",
      "47/47 [==============================] - 1s 20ms/step - loss: 4.3695e-04 - val_loss: 2.5354e-04\n",
      "Epoch 86/100\n",
      "47/47 [==============================] - 1s 20ms/step - loss: 3.3620e-04 - val_loss: 2.4739e-04\n",
      "Epoch 87/100\n",
      "47/47 [==============================] - 1s 20ms/step - loss: 3.4509e-04 - val_loss: 1.5632e-04\n",
      "Epoch 88/100\n",
      "47/47 [==============================] - 1s 19ms/step - loss: 3.7844e-04 - val_loss: 1.2823e-04\n",
      "Epoch 89/100\n",
      "47/47 [==============================] - 1s 20ms/step - loss: 4.4057e-04 - val_loss: 1.4296e-04\n",
      "Epoch 90/100\n",
      "47/47 [==============================] - 1s 21ms/step - loss: 3.7426e-04 - val_loss: 1.2065e-04\n",
      "Epoch 91/100\n",
      "47/47 [==============================] - 1s 20ms/step - loss: 3.3250e-04 - val_loss: 1.2130e-04\n",
      "Epoch 92/100\n",
      "47/47 [==============================] - 1s 20ms/step - loss: 3.6614e-04 - val_loss: 1.3094e-04\n",
      "Epoch 93/100\n",
      "47/47 [==============================] - 1s 20ms/step - loss: 4.2534e-04 - val_loss: 3.1288e-04\n",
      "Epoch 94/100\n",
      "47/47 [==============================] - 1s 20ms/step - loss: 4.0849e-04 - val_loss: 1.2314e-04\n",
      "Epoch 95/100\n",
      "47/47 [==============================] - 1s 20ms/step - loss: 3.4199e-04 - val_loss: 1.2959e-04\n",
      "Epoch 96/100\n",
      "47/47 [==============================] - 1s 20ms/step - loss: 3.8526e-04 - val_loss: 1.2530e-04\n",
      "Epoch 97/100\n",
      "47/47 [==============================] - 1s 21ms/step - loss: 4.3833e-04 - val_loss: 1.1069e-04\n",
      "Epoch 98/100\n",
      "47/47 [==============================] - 1s 20ms/step - loss: 3.5934e-04 - val_loss: 1.1796e-04\n",
      "Epoch 99/100\n",
      "47/47 [==============================] - 1s 21ms/step - loss: 4.0376e-04 - val_loss: 1.0309e-04\n",
      "Epoch 100/100\n",
      "47/47 [==============================] - 1s 20ms/step - loss: 5.7019e-04 - val_loss: 1.4300e-04\n",
      "Epoch 1/100\n",
      "47/47 [==============================] - 1s 30ms/step - loss: 2.6483e-04 - val_loss: 1.0838e-04\n",
      "Epoch 2/100\n",
      "47/47 [==============================] - 1s 20ms/step - loss: 2.6018e-04 - val_loss: 1.0792e-04\n",
      "Epoch 3/100\n",
      "47/47 [==============================] - 1s 20ms/step - loss: 2.5760e-04 - val_loss: 1.0501e-04\n",
      "Epoch 4/100\n",
      "47/47 [==============================] - 1s 20ms/step - loss: 2.5596e-04 - val_loss: 1.0477e-04\n",
      "Epoch 5/100\n",
      "47/47 [==============================] - 1s 20ms/step - loss: 2.5637e-04 - val_loss: 1.0622e-04\n",
      "Epoch 6/100\n",
      "47/47 [==============================] - 1s 20ms/step - loss: 2.5505e-04 - val_loss: 1.0403e-04\n",
      "Epoch 7/100\n",
      "47/47 [==============================] - 1s 20ms/step - loss: 2.5489e-04 - val_loss: 1.0377e-04\n",
      "Epoch 8/100\n",
      "47/47 [==============================] - 1s 20ms/step - loss: 2.5390e-04 - val_loss: 1.0341e-04\n",
      "Epoch 9/100\n",
      "47/47 [==============================] - 1s 20ms/step - loss: 2.5415e-04 - val_loss: 1.0501e-04\n",
      "Epoch 10/100\n",
      "47/47 [==============================] - 1s 20ms/step - loss: 2.5390e-04 - val_loss: 1.0472e-04\n",
      "Epoch 11/100\n",
      "47/47 [==============================] - 1s 21ms/step - loss: 2.5377e-04 - val_loss: 1.0189e-04\n",
      "Epoch 12/100\n",
      "47/47 [==============================] - 1s 20ms/step - loss: 2.5362e-04 - val_loss: 1.0355e-04\n",
      "Epoch 13/100\n",
      "47/47 [==============================] - 1s 20ms/step - loss: 2.5335e-04 - val_loss: 1.0424e-04\n",
      "Epoch 14/100\n",
      "47/47 [==============================] - 1s 22ms/step - loss: 2.5250e-04 - val_loss: 1.0496e-04\n",
      "Epoch 15/100\n",
      "47/47 [==============================] - 1s 20ms/step - loss: 2.5204e-04 - val_loss: 1.0204e-04\n",
      "Epoch 16/100\n",
      "47/47 [==============================] - 1s 20ms/step - loss: 2.5453e-04 - val_loss: 1.0369e-04\n",
      "Epoch 17/100\n",
      "47/47 [==============================] - 1s 20ms/step - loss: 2.5266e-04 - val_loss: 1.0336e-04\n",
      "Epoch 18/100\n",
      "47/47 [==============================] - 1s 20ms/step - loss: 2.5243e-04 - val_loss: 1.0221e-04\n",
      "Epoch 19/100\n",
      "47/47 [==============================] - 1s 20ms/step - loss: 2.5251e-04 - val_loss: 1.0387e-04\n",
      "Epoch 20/100\n",
      "47/47 [==============================] - 1s 20ms/step - loss: 2.5276e-04 - val_loss: 1.0561e-04\n",
      "Epoch 21/100\n",
      "47/47 [==============================] - 1s 21ms/step - loss: 2.5244e-04 - val_loss: 1.0067e-04\n",
      "Epoch 22/100\n",
      "47/47 [==============================] - 1s 20ms/step - loss: 2.5303e-04 - val_loss: 1.0202e-04\n",
      "Epoch 23/100\n",
      "47/47 [==============================] - 1s 20ms/step - loss: 2.5248e-04 - val_loss: 1.0289e-04\n",
      "Epoch 24/100\n",
      "47/47 [==============================] - 1s 20ms/step - loss: 2.5159e-04 - val_loss: 1.0193e-04\n",
      "Epoch 25/100\n",
      "47/47 [==============================] - 1s 19ms/step - loss: 2.5340e-04 - val_loss: 1.0322e-04\n",
      "Epoch 26/100\n",
      "47/47 [==============================] - 1s 20ms/step - loss: 2.5066e-04 - val_loss: 1.0084e-04\n",
      "Epoch 27/100\n",
      "47/47 [==============================] - 1s 20ms/step - loss: 2.5159e-04 - val_loss: 1.0379e-04\n",
      "Epoch 28/100\n",
      "47/47 [==============================] - 1s 20ms/step - loss: 2.5112e-04 - val_loss: 1.0236e-04\n",
      "Epoch 29/100\n",
      "47/47 [==============================] - 1s 20ms/step - loss: 2.5102e-04 - val_loss: 1.0309e-04\n",
      "Epoch 30/100\n",
      "47/47 [==============================] - 1s 21ms/step - loss: 2.5153e-04 - val_loss: 9.9442e-05\n",
      "Epoch 31/100\n",
      "47/47 [==============================] - 1s 20ms/step - loss: 2.5072e-04 - val_loss: 1.0339e-04\n",
      "Epoch 32/100\n",
      "47/47 [==============================] - 1s 20ms/step - loss: 2.4998e-04 - val_loss: 1.0011e-04\n",
      "Epoch 33/100\n",
      "47/47 [==============================] - 1s 20ms/step - loss: 2.5115e-04 - val_loss: 1.0264e-04\n",
      "Epoch 34/100\n",
      "47/47 [==============================] - 1s 20ms/step - loss: 2.5153e-04 - val_loss: 1.0010e-04\n",
      "Epoch 35/100\n",
      "47/47 [==============================] - 1s 20ms/step - loss: 2.5110e-04 - val_loss: 1.0129e-04\n",
      "Epoch 36/100\n",
      "47/47 [==============================] - 1s 20ms/step - loss: 2.5040e-04 - val_loss: 1.0147e-04\n",
      "Epoch 37/100\n",
      "47/47 [==============================] - 1s 20ms/step - loss: 2.4964e-04 - val_loss: 1.0061e-04\n",
      "Epoch 38/100\n",
      "47/47 [==============================] - 1s 20ms/step - loss: 2.5038e-04 - val_loss: 1.0179e-04\n",
      "Epoch 39/100\n",
      "47/47 [==============================] - 1s 20ms/step - loss: 2.5062e-04 - val_loss: 1.0201e-04\n",
      "Epoch 40/100\n",
      "47/47 [==============================] - 1s 21ms/step - loss: 2.5074e-04 - val_loss: 9.9340e-05\n",
      "Epoch 41/100\n",
      "47/47 [==============================] - 1s 20ms/step - loss: 2.5001e-04 - val_loss: 1.0216e-04\n",
      "Epoch 42/100\n",
      "47/47 [==============================] - 1s 20ms/step - loss: 2.5029e-04 - val_loss: 1.0303e-04\n",
      "Epoch 43/100\n",
      "47/47 [==============================] - 1s 20ms/step - loss: 2.5128e-04 - val_loss: 1.0284e-04\n",
      "Epoch 44/100\n",
      "47/47 [==============================] - 1s 20ms/step - loss: 2.5084e-04 - val_loss: 9.9592e-05\n",
      "Epoch 45/100\n",
      "47/47 [==============================] - 1s 20ms/step - loss: 2.5084e-04 - val_loss: 1.0005e-04\n",
      "Epoch 46/100\n",
      "47/47 [==============================] - 1s 19ms/step - loss: 2.5038e-04 - val_loss: 9.9809e-05\n",
      "Epoch 47/100\n",
      "47/47 [==============================] - 1s 20ms/step - loss: 2.5030e-04 - val_loss: 9.9254e-05\n",
      "Epoch 48/100\n",
      "47/47 [==============================] - 1s 20ms/step - loss: 2.5041e-04 - val_loss: 1.0045e-04\n",
      "Epoch 49/100\n",
      "47/47 [==============================] - 1s 20ms/step - loss: 2.4967e-04 - val_loss: 1.0069e-04\n",
      "Epoch 50/100\n",
      "47/47 [==============================] - 1s 20ms/step - loss: 2.4919e-04 - val_loss: 1.0103e-04\n",
      "Epoch 51/100\n",
      "47/47 [==============================] - 1s 20ms/step - loss: 2.4956e-04 - val_loss: 1.0002e-04\n",
      "Epoch 52/100\n",
      "47/47 [==============================] - 1s 20ms/step - loss: 2.4970e-04 - val_loss: 1.0095e-04\n",
      "Epoch 53/100\n"
     ]
    },
    {
     "name": "stdout",
     "output_type": "stream",
     "text": [
      "47/47 [==============================] - 1s 20ms/step - loss: 2.4942e-04 - val_loss: 9.9290e-05\n",
      "Epoch 54/100\n",
      "47/47 [==============================] - 1s 21ms/step - loss: 2.4968e-04 - val_loss: 9.8584e-05\n",
      "Epoch 55/100\n",
      "47/47 [==============================] - 1s 20ms/step - loss: 2.4915e-04 - val_loss: 9.9405e-05\n",
      "Epoch 56/100\n",
      "47/47 [==============================] - 1s 20ms/step - loss: 2.4949e-04 - val_loss: 1.0121e-04\n",
      "Epoch 57/100\n",
      "47/47 [==============================] - 1s 20ms/step - loss: 2.4926e-04 - val_loss: 9.9683e-05\n",
      "Epoch 58/100\n",
      "47/47 [==============================] - 1s 20ms/step - loss: 2.4953e-04 - val_loss: 9.8850e-05\n",
      "Epoch 59/100\n",
      "47/47 [==============================] - 1s 20ms/step - loss: 2.4964e-04 - val_loss: 9.9860e-05\n",
      "Epoch 60/100\n",
      "47/47 [==============================] - 1s 20ms/step - loss: 2.4922e-04 - val_loss: 9.8767e-05\n",
      "Epoch 61/100\n",
      "47/47 [==============================] - 1s 20ms/step - loss: 2.4895e-04 - val_loss: 1.0082e-04\n",
      "Epoch 62/100\n",
      "47/47 [==============================] - 1s 20ms/step - loss: 2.4894e-04 - val_loss: 1.0024e-04\n",
      "Epoch 63/100\n",
      "47/47 [==============================] - 1s 20ms/step - loss: 2.4856e-04 - val_loss: 1.0049e-04\n",
      "Epoch 64/100\n",
      "47/47 [==============================] - 1s 20ms/step - loss: 2.4916e-04 - val_loss: 1.0075e-04\n",
      "Epoch 65/100\n",
      "47/47 [==============================] - 1s 20ms/step - loss: 2.4918e-04 - val_loss: 9.9696e-05\n",
      "Epoch 66/100\n",
      "47/47 [==============================] - 1s 20ms/step - loss: 2.4853e-04 - val_loss: 1.0076e-04\n",
      "Epoch 67/100\n",
      "47/47 [==============================] - 1s 20ms/step - loss: 2.4847e-04 - val_loss: 1.0012e-04\n",
      "Epoch 68/100\n",
      "47/47 [==============================] - 1s 20ms/step - loss: 2.4991e-04 - val_loss: 9.9177e-05\n",
      "Epoch 69/100\n",
      "47/47 [==============================] - 1s 20ms/step - loss: 2.4853e-04 - val_loss: 9.8854e-05\n",
      "Epoch 70/100\n",
      "47/47 [==============================] - 1s 20ms/step - loss: 2.4782e-04 - val_loss: 9.9601e-05\n",
      "Epoch 71/100\n",
      "47/47 [==============================] - 1s 20ms/step - loss: 2.4988e-04 - val_loss: 1.0020e-04\n",
      "Epoch 72/100\n",
      "47/47 [==============================] - 1s 21ms/step - loss: 2.4871e-04 - val_loss: 9.8048e-05\n",
      "Epoch 73/100\n",
      "47/47 [==============================] - 1s 20ms/step - loss: 2.4819e-04 - val_loss: 9.9543e-05\n",
      "Epoch 74/100\n",
      "47/47 [==============================] - 1s 20ms/step - loss: 2.4916e-04 - val_loss: 9.8935e-05\n",
      "Epoch 75/100\n",
      "47/47 [==============================] - 1s 20ms/step - loss: 2.4833e-04 - val_loss: 9.9025e-05\n",
      "Epoch 76/100\n",
      "47/47 [==============================] - 1s 20ms/step - loss: 2.4865e-04 - val_loss: 9.8833e-05\n",
      "Epoch 77/100\n",
      "47/47 [==============================] - 1s 20ms/step - loss: 2.4947e-04 - val_loss: 1.0113e-04\n",
      "Epoch 78/100\n",
      "47/47 [==============================] - 1s 20ms/step - loss: 2.4867e-04 - val_loss: 1.0042e-04\n",
      "Epoch 79/100\n",
      "47/47 [==============================] - 1s 20ms/step - loss: 2.4891e-04 - val_loss: 9.9936e-05\n",
      "Epoch 80/100\n",
      "47/47 [==============================] - 1s 20ms/step - loss: 2.4886e-04 - val_loss: 1.0061e-04\n",
      "Epoch 81/100\n",
      "47/47 [==============================] - 1s 20ms/step - loss: 2.4850e-04 - val_loss: 9.9138e-05\n",
      "Epoch 82/100\n",
      "47/47 [==============================] - 1s 20ms/step - loss: 2.4878e-04 - val_loss: 9.8071e-05\n",
      "Epoch 83/100\n",
      "47/47 [==============================] - 1s 20ms/step - loss: 2.4811e-04 - val_loss: 9.8155e-05\n",
      "Epoch 84/100\n",
      "47/47 [==============================] - 1s 20ms/step - loss: 2.4934e-04 - val_loss: 1.0065e-04\n",
      "Epoch 85/100\n",
      "47/47 [==============================] - 1s 20ms/step - loss: 2.4832e-04 - val_loss: 9.9442e-05\n",
      "Epoch 86/100\n",
      "47/47 [==============================] - 1s 20ms/step - loss: 2.4794e-04 - val_loss: 9.8633e-05\n",
      "Epoch 87/100\n",
      "47/47 [==============================] - 1s 21ms/step - loss: 2.4805e-04 - val_loss: 9.8510e-05\n",
      "Epoch 88/100\n",
      "47/47 [==============================] - 1s 20ms/step - loss: 2.4864e-04 - val_loss: 9.8870e-05\n",
      "Epoch 89/100\n",
      "47/47 [==============================] - 1s 21ms/step - loss: 2.5016e-04 - val_loss: 1.0000e-04\n",
      "Epoch 90/100\n",
      "47/47 [==============================] - 1s 20ms/step - loss: 2.4815e-04 - val_loss: 9.9541e-05\n",
      "Epoch 91/100\n",
      "47/47 [==============================] - 1s 20ms/step - loss: 2.4827e-04 - val_loss: 1.0006e-04\n",
      "Epoch 92/100\n",
      "47/47 [==============================] - 1s 20ms/step - loss: 2.4817e-04 - val_loss: 9.8084e-05\n",
      "Epoch 93/100\n",
      "47/47 [==============================] - 1s 20ms/step - loss: 2.4791e-04 - val_loss: 9.9763e-05\n",
      "Epoch 94/100\n",
      "47/47 [==============================] - 1s 20ms/step - loss: 2.4788e-04 - val_loss: 9.8728e-05\n",
      "Epoch 95/100\n",
      "47/47 [==============================] - 1s 20ms/step - loss: 2.4828e-04 - val_loss: 9.9229e-05\n",
      "Epoch 96/100\n",
      "47/47 [==============================] - 1s 20ms/step - loss: 2.4831e-04 - val_loss: 9.7757e-05\n",
      "Epoch 97/100\n",
      "47/47 [==============================] - 1s 20ms/step - loss: 2.4792e-04 - val_loss: 9.8669e-05\n",
      "Epoch 98/100\n",
      "47/47 [==============================] - 1s 20ms/step - loss: 2.4852e-04 - val_loss: 9.8608e-05\n",
      "Epoch 99/100\n",
      "47/47 [==============================] - 1s 20ms/step - loss: 2.4952e-04 - val_loss: 9.8613e-05\n",
      "Epoch 100/100\n",
      "47/47 [==============================] - 1s 20ms/step - loss: 2.4808e-04 - val_loss: 9.9612e-05\n"
     ]
    }
   ],
   "source": [
    "filepath = 'checkpoint_concat.h5'\n",
    "checkpoint = callbacks.ModelCheckpoint(filepath=filepath, monitor='val_loss', save_best_only=True)\n",
    "h0 = model.fit([x_train, train],y_train, validation_data=([x_val, val], y_val),\n",
    "               batch_size=128, epochs=100, callbacks=[checkpoint], shuffle=True)\n",
    "model = models.load_model(filepath)\n",
    "model.compile(loss='mse', optimizer=optimizers.SGD(learning_rate=0.001, momentum=0.9))\n",
    "h1 = model.fit([x_train, train], y_train, validation_data=([x_val, val], y_val), \n",
    "               batch_size=128, epochs=100, callbacks=[checkpoint], shuffle=True)\n",
    "model = models.load_model(filepath)"
   ]
  },
  {
   "cell_type": "code",
   "execution_count": 15,
   "id": "processed-theory",
   "metadata": {},
   "outputs": [],
   "source": [
    "predict = model.predict([x_test, test])\n",
    "predict = scaler.inverse_transform(predict)"
   ]
  },
  {
   "cell_type": "code",
   "execution_count": 16,
   "id": "regular-facility",
   "metadata": {},
   "outputs": [
    {
     "data": {
      "text/plain": [
       "[<matplotlib.lines.Line2D at 0x7ff7d8341790>]"
      ]
     },
     "execution_count": 16,
     "metadata": {},
     "output_type": "execute_result"
    },
    {
     "data": {
      "image/png": "[encoded data removed]",
      "text/plain": [
       "<Figure size 432x288 with 1 Axes>"
      ]
     },
     "metadata": {
      "needs_background": "light"
     },
     "output_type": "display_data"
    }
   ],
   "source": [
    "plt.plot(y_test)\n",
    "plt.plot(predict)"
   ]
  },
  {
   "cell_type": "code",
   "execution_count": 17,
   "id": "weighted-brunei",
   "metadata": {},
   "outputs": [
    {
     "data": {
      "image/png": "[encoded data removed]",
      "text/plain": [
       "<Figure size 432x288 with 1 Axes>"
      ]
     },
     "metadata": {
      "needs_background": "light"
     },
     "output_type": "display_data"
    }
   ],
   "source": [
    "plt.plot(h0.history['loss'] + h1.history['loss'], label='loss')\n",
    "plt.plot(h0.history['val_loss'] + h1.history['val_loss'], label='val_loss')\n",
    "plt.title(f'History')\n",
    "plt.legend()\n",
    "plt.show()"
   ]
  },
  {
   "cell_type": "code",
   "execution_count": 18,
   "id": "occupational-robertson",
   "metadata": {},
   "outputs": [
    {
     "data": {
      "text/plain": [
       "21.51896516927083"
      ]
     },
     "execution_count": 18,
     "metadata": {},
     "output_type": "execute_result"
    }
   ],
   "source": [
    "metrics.mean_absolute_error(y_test, predict)"
   ]
  }
 ],
 "metadata": {
  "kernelspec": {
   "display_name": "Python [conda env:tensorflow]",
   "language": "python",
   "name": "conda-env-tensorflow-py"
  },
  "language_info": {
   "codemirror_mode": {
    "name": "ipython",
    "version": 3
   },
   "file_extension": ".py",
   "mimetype": "text/x-python",
   "name": "python",
   "nbconvert_exporter": "python",
   "pygments_lexer": "ipython3",
   "version": "3.7.9"
  }
 },
 "nbformat": 4,
 "nbformat_minor": 5
}
